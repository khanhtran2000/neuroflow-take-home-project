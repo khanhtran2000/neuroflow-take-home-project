{
  "nbformat": 4,
  "nbformat_minor": 0,
  "metadata": {
    "colab": {
      "name": "NeuroFlow Data Team Take-Home Project",
      "provenance": [],
      "collapsed_sections": []
    },
    "kernelspec": {
      "name": "python3",
      "display_name": "Python 3"
    },
    "language_info": {
      "name": "python"
    }
  },
  "cells": [
    {
      "cell_type": "markdown",
      "metadata": {
        "id": "wg94aOSCH_dh"
      },
      "source": [
        "## **Import dataset**\n",
        "---"
      ]
    },
    {
      "cell_type": "code",
      "metadata": {
        "id": "iYGAso69drz2"
      },
      "source": [
        "# Import packages\n",
        "import pandas as pd\n",
        "import numpy as np\n",
        "import matplotlib.pyplot as plt"
      ],
      "execution_count": 1,
      "outputs": []
    },
    {
      "cell_type": "code",
      "metadata": {
        "colab": {
          "base_uri": "https://localhost:8080/",
          "height": 204
        },
        "id": "LtySRGkdd7q1",
        "outputId": "5fad85fb-30d2-4daa-cf2e-417e697c3554"
      },
      "source": [
        "# Import dataset\n",
        "df = pd.read_csv(\"/content/sample_data/phq_all_final.csv\")\n",
        "# Review the dataset\n",
        "df.head()\n",
        "# First column: the time the measurement was made\n",
        "# Second column: the id of the patient submitting the assessment\n",
        "# Third column: the type of assessment submitted\n",
        "# Fourth column: the date that the patient was created\n",
        "# Fifth column: the final score of the assessment"
      ],
      "execution_count": 2,
      "outputs": [
        {
          "output_type": "execute_result",
          "data": {
            "text/html": [
              "<div>\n",
              "<style scoped>\n",
              "    .dataframe tbody tr th:only-of-type {\n",
              "        vertical-align: middle;\n",
              "    }\n",
              "\n",
              "    .dataframe tbody tr th {\n",
              "        vertical-align: top;\n",
              "    }\n",
              "\n",
              "    .dataframe thead th {\n",
              "        text-align: right;\n",
              "    }\n",
              "</style>\n",
              "<table border=\"1\" class=\"dataframe\">\n",
              "  <thead>\n",
              "    <tr style=\"text-align: right;\">\n",
              "      <th></th>\n",
              "      <th>date</th>\n",
              "      <th>patient_id</th>\n",
              "      <th>type</th>\n",
              "      <th>patient_date_created</th>\n",
              "      <th>score</th>\n",
              "    </tr>\n",
              "  </thead>\n",
              "  <tbody>\n",
              "    <tr>\n",
              "      <th>0</th>\n",
              "      <td>2019-08-26T13:32:43.019162</td>\n",
              "      <td>8430</td>\n",
              "      <td>gad7</td>\n",
              "      <td>2019-06-03T13:23:02.63568</td>\n",
              "      <td>6</td>\n",
              "    </tr>\n",
              "    <tr>\n",
              "      <th>1</th>\n",
              "      <td>2019-11-15T17:55:11.364877</td>\n",
              "      <td>8430</td>\n",
              "      <td>gad7</td>\n",
              "      <td>2019-06-03T13:23:02.63568</td>\n",
              "      <td>1</td>\n",
              "    </tr>\n",
              "    <tr>\n",
              "      <th>2</th>\n",
              "      <td>2019-10-07T18:23:29.611351</td>\n",
              "      <td>14338</td>\n",
              "      <td>gad7</td>\n",
              "      <td>2019-06-03T13:32:30.66846</td>\n",
              "      <td>10</td>\n",
              "    </tr>\n",
              "    <tr>\n",
              "      <th>3</th>\n",
              "      <td>2019-11-04T20:16:28.610965</td>\n",
              "      <td>14338</td>\n",
              "      <td>gad7</td>\n",
              "      <td>2019-06-03T13:32:30.66846</td>\n",
              "      <td>7</td>\n",
              "    </tr>\n",
              "    <tr>\n",
              "      <th>4</th>\n",
              "      <td>2019-12-02T20:56:55.966354</td>\n",
              "      <td>14338</td>\n",
              "      <td>gad7</td>\n",
              "      <td>2019-06-03T13:32:30.66846</td>\n",
              "      <td>9</td>\n",
              "    </tr>\n",
              "  </tbody>\n",
              "</table>\n",
              "</div>"
            ],
            "text/plain": [
              "                         date  patient_id  ...       patient_date_created score\n",
              "0  2019-08-26T13:32:43.019162        8430  ...  2019-06-03T13:23:02.63568     6\n",
              "1  2019-11-15T17:55:11.364877        8430  ...  2019-06-03T13:23:02.63568     1\n",
              "2  2019-10-07T18:23:29.611351       14338  ...  2019-06-03T13:32:30.66846    10\n",
              "3  2019-11-04T20:16:28.610965       14338  ...  2019-06-03T13:32:30.66846     7\n",
              "4  2019-12-02T20:56:55.966354       14338  ...  2019-06-03T13:32:30.66846     9\n",
              "\n",
              "[5 rows x 5 columns]"
            ]
          },
          "metadata": {
            "tags": []
          },
          "execution_count": 2
        }
      ]
    },
    {
      "cell_type": "markdown",
      "metadata": {
        "id": "hZ590B3cfwOZ"
      },
      "source": [
        "## **Data Cleaning & Exploration**\n",
        "---\n",
        "In this section, I will conduct a quick analysis on the dataset to have a big picture of what's going on in the table. Descriptive statistics and some quick visualizations will be included. Further insights are not included in this section."
      ]
    },
    {
      "cell_type": "code",
      "metadata": {
        "colab": {
          "base_uri": "https://localhost:8080/",
          "height": 0
        },
        "id": "Ts4XDczheAMe",
        "outputId": "cc079ad0-60c5-43ff-95d6-0deb5b36a8a2"
      },
      "source": [
        "# Quick glimpse into the structure of the dataframe\n",
        "df.info()"
      ],
      "execution_count": 3,
      "outputs": [
        {
          "output_type": "stream",
          "text": [
            "<class 'pandas.core.frame.DataFrame'>\n",
            "RangeIndex: 53698 entries, 0 to 53697\n",
            "Data columns (total 5 columns):\n",
            " #   Column                Non-Null Count  Dtype \n",
            "---  ------                --------------  ----- \n",
            " 0   date                  53698 non-null  object\n",
            " 1   patient_id            53698 non-null  int64 \n",
            " 2   type                  53698 non-null  object\n",
            " 3   patient_date_created  53698 non-null  object\n",
            " 4   score                 53698 non-null  int64 \n",
            "dtypes: int64(2), object(3)\n",
            "memory usage: 2.0+ MB\n"
          ],
          "name": "stdout"
        }
      ]
    },
    {
      "cell_type": "markdown",
      "metadata": {
        "id": "Vhah8U0LhiH0"
      },
      "source": [
        "The first thing that I notice is how clean the data is! All of the data are non-null values which is a good start. I will try to eliminate the duplicates in the next step."
      ]
    },
    {
      "cell_type": "code",
      "metadata": {
        "colab": {
          "base_uri": "https://localhost:8080/",
          "height": 419
        },
        "id": "Ai6J4zuMhxit",
        "outputId": "7e5081fb-ff3a-4538-b710-02e0bb595e82"
      },
      "source": [
        "# Drop duplicates\n",
        "df.drop_duplicates()"
      ],
      "execution_count": 4,
      "outputs": [
        {
          "output_type": "execute_result",
          "data": {
            "text/html": [
              "<div>\n",
              "<style scoped>\n",
              "    .dataframe tbody tr th:only-of-type {\n",
              "        vertical-align: middle;\n",
              "    }\n",
              "\n",
              "    .dataframe tbody tr th {\n",
              "        vertical-align: top;\n",
              "    }\n",
              "\n",
              "    .dataframe thead th {\n",
              "        text-align: right;\n",
              "    }\n",
              "</style>\n",
              "<table border=\"1\" class=\"dataframe\">\n",
              "  <thead>\n",
              "    <tr style=\"text-align: right;\">\n",
              "      <th></th>\n",
              "      <th>date</th>\n",
              "      <th>patient_id</th>\n",
              "      <th>type</th>\n",
              "      <th>patient_date_created</th>\n",
              "      <th>score</th>\n",
              "    </tr>\n",
              "  </thead>\n",
              "  <tbody>\n",
              "    <tr>\n",
              "      <th>0</th>\n",
              "      <td>2019-08-26T13:32:43.019162</td>\n",
              "      <td>8430</td>\n",
              "      <td>gad7</td>\n",
              "      <td>2019-06-03T13:23:02.63568</td>\n",
              "      <td>6</td>\n",
              "    </tr>\n",
              "    <tr>\n",
              "      <th>1</th>\n",
              "      <td>2019-11-15T17:55:11.364877</td>\n",
              "      <td>8430</td>\n",
              "      <td>gad7</td>\n",
              "      <td>2019-06-03T13:23:02.63568</td>\n",
              "      <td>1</td>\n",
              "    </tr>\n",
              "    <tr>\n",
              "      <th>2</th>\n",
              "      <td>2019-10-07T18:23:29.611351</td>\n",
              "      <td>14338</td>\n",
              "      <td>gad7</td>\n",
              "      <td>2019-06-03T13:32:30.66846</td>\n",
              "      <td>10</td>\n",
              "    </tr>\n",
              "    <tr>\n",
              "      <th>3</th>\n",
              "      <td>2019-11-04T20:16:28.610965</td>\n",
              "      <td>14338</td>\n",
              "      <td>gad7</td>\n",
              "      <td>2019-06-03T13:32:30.66846</td>\n",
              "      <td>7</td>\n",
              "    </tr>\n",
              "    <tr>\n",
              "      <th>4</th>\n",
              "      <td>2019-12-02T20:56:55.966354</td>\n",
              "      <td>14338</td>\n",
              "      <td>gad7</td>\n",
              "      <td>2019-06-03T13:32:30.66846</td>\n",
              "      <td>9</td>\n",
              "    </tr>\n",
              "    <tr>\n",
              "      <th>...</th>\n",
              "      <td>...</td>\n",
              "      <td>...</td>\n",
              "      <td>...</td>\n",
              "      <td>...</td>\n",
              "      <td>...</td>\n",
              "    </tr>\n",
              "    <tr>\n",
              "      <th>53693</th>\n",
              "      <td>2020-07-31T13:59:13.201741</td>\n",
              "      <td>10683</td>\n",
              "      <td>gad7</td>\n",
              "      <td>2020-07-31T13:54:20.164253</td>\n",
              "      <td>1</td>\n",
              "    </tr>\n",
              "    <tr>\n",
              "      <th>53694</th>\n",
              "      <td>2020-07-31T15:08:56.079027</td>\n",
              "      <td>12344</td>\n",
              "      <td>gad7</td>\n",
              "      <td>2020-07-31T15:06:51.04373</td>\n",
              "      <td>1</td>\n",
              "    </tr>\n",
              "    <tr>\n",
              "      <th>53695</th>\n",
              "      <td>2020-07-31T15:52:50.353265</td>\n",
              "      <td>17475</td>\n",
              "      <td>gad7</td>\n",
              "      <td>2020-07-31T15:40:07.726529</td>\n",
              "      <td>7</td>\n",
              "    </tr>\n",
              "    <tr>\n",
              "      <th>53696</th>\n",
              "      <td>2020-07-31T17:36:57.057913</td>\n",
              "      <td>9069</td>\n",
              "      <td>gad7</td>\n",
              "      <td>2020-07-31T17:33:27.096572</td>\n",
              "      <td>3</td>\n",
              "    </tr>\n",
              "    <tr>\n",
              "      <th>53697</th>\n",
              "      <td>2020-07-31T17:58:53.067462</td>\n",
              "      <td>4870</td>\n",
              "      <td>gad7</td>\n",
              "      <td>2020-07-31T17:58:21.004418</td>\n",
              "      <td>4</td>\n",
              "    </tr>\n",
              "  </tbody>\n",
              "</table>\n",
              "<p>53698 rows × 5 columns</p>\n",
              "</div>"
            ],
            "text/plain": [
              "                             date  ...  score\n",
              "0      2019-08-26T13:32:43.019162  ...      6\n",
              "1      2019-11-15T17:55:11.364877  ...      1\n",
              "2      2019-10-07T18:23:29.611351  ...     10\n",
              "3      2019-11-04T20:16:28.610965  ...      7\n",
              "4      2019-12-02T20:56:55.966354  ...      9\n",
              "...                           ...  ...    ...\n",
              "53693  2020-07-31T13:59:13.201741  ...      1\n",
              "53694  2020-07-31T15:08:56.079027  ...      1\n",
              "53695  2020-07-31T15:52:50.353265  ...      7\n",
              "53696  2020-07-31T17:36:57.057913  ...      3\n",
              "53697  2020-07-31T17:58:53.067462  ...      4\n",
              "\n",
              "[53698 rows x 5 columns]"
            ]
          },
          "metadata": {
            "tags": []
          },
          "execution_count": 4
        }
      ]
    },
    {
      "cell_type": "markdown",
      "metadata": {
        "id": "liCE3De4iFKz"
      },
      "source": [
        "No duplicates at all which is perfect. The next step will be checking if any of the records are not from GAD-7 assessments."
      ]
    },
    {
      "cell_type": "code",
      "metadata": {
        "id": "XMakW5gny3Ze"
      },
      "source": [
        "for n, test_type in enumerate(df['type'].tolist()):\n",
        "    if test_type != 'gad7'.lower(): \n",
        "        print(df[n])"
      ],
      "execution_count": 62,
      "outputs": []
    },
    {
      "cell_type": "markdown",
      "metadata": {
        "id": "RF3v_0a_zZXY"
      },
      "source": [
        "Seems like all of the records are from GAD-7 assessments. The next step will include some quick visualizations on the data based on various \"grouped by\" approaches."
      ]
    },
    {
      "cell_type": "markdown",
      "metadata": {
        "id": "STmByK_8iW3_"
      },
      "source": [
        "### **Grouped by 'date'**\n",
        "I want to see how many assessments have been taken throughout the timeline given by the dataset."
      ]
    },
    {
      "cell_type": "code",
      "metadata": {
        "id": "8DodXbKGiVo-"
      },
      "source": [
        "# Convert to datetime\n",
        "df['date'] = pd.to_datetime(df['date'], format='%Y-%m-%d').dt.date"
      ],
      "execution_count": 52,
      "outputs": []
    },
    {
      "cell_type": "code",
      "metadata": {
        "colab": {
          "base_uri": "https://localhost:8080/",
          "height": 204
        },
        "id": "Zz1Kg1qJjL7R",
        "outputId": "99a6c6b2-f4bf-440d-9f25-82ca90943000"
      },
      "source": [
        "# Count the assesssments by date\n",
        "assess_count = df.groupby(['date']).size().reset_index(name=\"Assessments Count\")\n",
        "# Check the new dataframe\n",
        "assess_count.head()"
      ],
      "execution_count": 10,
      "outputs": [
        {
          "output_type": "execute_result",
          "data": {
            "text/html": [
              "<div>\n",
              "<style scoped>\n",
              "    .dataframe tbody tr th:only-of-type {\n",
              "        vertical-align: middle;\n",
              "    }\n",
              "\n",
              "    .dataframe tbody tr th {\n",
              "        vertical-align: top;\n",
              "    }\n",
              "\n",
              "    .dataframe thead th {\n",
              "        text-align: right;\n",
              "    }\n",
              "</style>\n",
              "<table border=\"1\" class=\"dataframe\">\n",
              "  <thead>\n",
              "    <tr style=\"text-align: right;\">\n",
              "      <th></th>\n",
              "      <th>date</th>\n",
              "      <th>Assessments Count</th>\n",
              "    </tr>\n",
              "  </thead>\n",
              "  <tbody>\n",
              "    <tr>\n",
              "      <th>0</th>\n",
              "      <td>2019-06-06</td>\n",
              "      <td>1</td>\n",
              "    </tr>\n",
              "    <tr>\n",
              "      <th>1</th>\n",
              "      <td>2019-06-07</td>\n",
              "      <td>2</td>\n",
              "    </tr>\n",
              "    <tr>\n",
              "      <th>2</th>\n",
              "      <td>2019-06-09</td>\n",
              "      <td>2</td>\n",
              "    </tr>\n",
              "    <tr>\n",
              "      <th>3</th>\n",
              "      <td>2019-06-10</td>\n",
              "      <td>6</td>\n",
              "    </tr>\n",
              "    <tr>\n",
              "      <th>4</th>\n",
              "      <td>2019-06-11</td>\n",
              "      <td>1</td>\n",
              "    </tr>\n",
              "  </tbody>\n",
              "</table>\n",
              "</div>"
            ],
            "text/plain": [
              "         date  Assessments Count\n",
              "0  2019-06-06                  1\n",
              "1  2019-06-07                  2\n",
              "2  2019-06-09                  2\n",
              "3  2019-06-10                  6\n",
              "4  2019-06-11                  1"
            ]
          },
          "metadata": {
            "tags": []
          },
          "execution_count": 10
        }
      ]
    },
    {
      "cell_type": "markdown",
      "metadata": {
        "id": "3G6QZLR5kqJP"
      },
      "source": [
        "Looking good. Next, I will separate the dataframe into two smaller ones with one containing assessments counts of 2019 and the other one containing those of 2020. "
      ]
    },
    {
      "cell_type": "code",
      "metadata": {
        "colab": {
          "base_uri": "https://localhost:8080/",
          "height": 0
        },
        "id": "z1eVC3cslbzi",
        "outputId": "d9f8c990-12fa-4894-d08d-03b6c5b938cc"
      },
      "source": [
        "# Create a list of rows in 2019\n",
        "data_2019 = [date for date in assess_count['date'].values if date.year==2019]\n",
        "# Create a list of rows in 2020\n",
        "data_2020 = [date for date in assess_count['date'].values if date.year==2020]\n",
        "# Slice the dataframe into two\n",
        "assess_count_2019 = assess_count[assess_count['date'].isin(data_2019)]\n",
        "assess_count_2020 = assess_count[assess_count['date'].isin(data_2020)]\n",
        "# Check the new dataframes' information\n",
        "print(assess_count_2019.info())\n",
        "print(assess_count_2020.info())"
      ],
      "execution_count": 27,
      "outputs": [
        {
          "output_type": "stream",
          "text": [
            "<class 'pandas.core.frame.DataFrame'>\n",
            "Int64Index: 208 entries, 0 to 207\n",
            "Data columns (total 2 columns):\n",
            " #   Column             Non-Null Count  Dtype \n",
            "---  ------             --------------  ----- \n",
            " 0   date               208 non-null    object\n",
            " 1   Assessments Count  208 non-null    int64 \n",
            "dtypes: int64(1), object(1)\n",
            "memory usage: 4.9+ KB\n",
            "None\n",
            "<class 'pandas.core.frame.DataFrame'>\n",
            "Int64Index: 213 entries, 208 to 420\n",
            "Data columns (total 2 columns):\n",
            " #   Column             Non-Null Count  Dtype \n",
            "---  ------             --------------  ----- \n",
            " 0   date               213 non-null    object\n",
            " 1   Assessments Count  213 non-null    int64 \n",
            "dtypes: int64(1), object(1)\n",
            "memory usage: 5.0+ KB\n",
            "None\n"
          ],
          "name": "stdout"
        }
      ]
    },
    {
      "cell_type": "markdown",
      "metadata": {
        "id": "iTe-Supnntn5"
      },
      "source": [
        "Now let's visualize it."
      ]
    },
    {
      "cell_type": "code",
      "metadata": {
        "colab": {
          "base_uri": "https://localhost:8080/",
          "height": 499
        },
        "id": "flkZUUWZkQ4g",
        "outputId": "734da63c-dec4-4cbf-8f04-12506c8f4fac"
      },
      "source": [
        "# Plotting 2019\n",
        "fig = plt.figure()\n",
        "ax = assess_count_2019.plot.bar(\n",
        "    x=\"date\", y=\"Assessments Count\", color=\"#A1CCC3\",\n",
        "    figsize=(15,7), label=\"Assessments Count\"\n",
        "    ) \n",
        "ax.set_xticklabels(assess_count_2019[\"date\"], rotation=90, size=5)\n",
        "# Setting labels \n",
        "ax.set_title(\"Assessment Counts in 2019\", size=14)\n",
        "ax.set_xlabel(\"Date\", size=12)\n",
        "ax.set_ylabel(\"Assessments Count\", size=12)\n",
        "ax.legend()\n",
        "ax.autoscale(tight=False)\n",
        "plt.show()"
      ],
      "execution_count": 64,
      "outputs": [
        {
          "output_type": "display_data",
          "data": {
            "text/plain": [
              "<Figure size 432x288 with 0 Axes>"
            ]
          },
          "metadata": {
            "tags": []
          }
        },
        {
          "output_type": "display_data",
          "data": {
            "image/png": "[encoded data removed]",
            "text/plain": [
              "<Figure size 1080x504 with 1 Axes>"
            ]
          },
          "metadata": {
            "tags": [],
            "needs_background": "light"
          }
        }
      ]
    },
    {
      "cell_type": "code",
      "metadata": {
        "colab": {
          "base_uri": "https://localhost:8080/",
          "height": 499
        },
        "id": "iiuPv28OlLmw",
        "outputId": "eb2bac85-4514-44ef-c667-7078abb56d55"
      },
      "source": [
        "# Plotting 2020\n",
        "fig = plt.figure()\n",
        "ax = assess_count_2020.plot.bar(\n",
        "    x=\"date\", y=\"Assessments Count\", color='#72B3A5',\n",
        "    figsize=(15,7), label=\"Assessments Count\"\n",
        "    )\n",
        "ax.set_xticklabels(assess_count_2020[\"date\"], rotation=90, size=5)\n",
        "# Setting labels \n",
        "ax.set_title(\"Assessment Counts in 2020\", size=14)\n",
        "ax.set_xlabel(\"Date\", size=12)\n",
        "ax.set_ylabel(\"Assessments Count\", size=12)\n",
        "ax.legend()\n",
        "ax.autoscale(tight=False)\n",
        "plt.show()"
      ],
      "execution_count": 65,
      "outputs": [
        {
          "output_type": "display_data",
          "data": {
            "text/plain": [
              "<Figure size 432x288 with 0 Axes>"
            ]
          },
          "metadata": {
            "tags": []
          }
        },
        {
          "output_type": "display_data",
          "data": {
            "image/png": "[encoded data removed]",
            "text/plain": [
              "<Figure size 1080x504 with 1 Axes>"
            ]
          },
          "metadata": {
            "tags": [],
            "needs_background": "light"
          }
        }
      ]
    },
    {
      "cell_type": "markdown",
      "metadata": {
        "id": "VHtWrmU6qRa3"
      },
      "source": [
        "Looking at the two charts, even though it is still quite difficult to extract meaningful patterns, it is obvious that the number of assessments taken in the later half of 2019 is a lot smaller than that in the first half of 2020. The year 2020 has a more consistent number of assessments taken through out the first 7 months with a peak at nearly 500 assessments done in the middle of April. There can be many reasons behind these numbers such as:\n",
        "\n",
        "\n",
        "*   More individual patients took the test in 2020.\n",
        "*   There are patients retaking the test multiple times in a day.\n",
        "*   The GAD-7 test has gone through the \"testing phase\" and was introduced to a majority of the available patients.\n",
        "*   The test was made \"easier\" which increased accessibility.\n",
        "\n",
        "These are all hypotheses that need to be tested. I will try to test as many hypotheses as possible during the following analysis."
      ]
    },
    {
      "cell_type": "markdown",
      "metadata": {
        "id": "n88mVHwptpf_"
      },
      "source": [
        "Before moving on to another \"grouped by\" section, I still want to do one little further exploration via a visualization of monthly assessment counts from June 2019 to July 2020."
      ]
    },
    {
      "cell_type": "code",
      "metadata": {
        "colab": {
          "base_uri": "https://localhost:8080/",
          "height": 483
        },
        "id": "h4JXNhgzo5Aj",
        "outputId": "2e41ab8c-0f4d-402e-8a60-2e02f78abdcb"
      },
      "source": [
        "import calendar\n",
        "\n",
        "# Create a copy of the original dataframe\n",
        "temp_df = df.copy()\n",
        "# Extract year and month\n",
        "temp_df['year'] = pd.DatetimeIndex(temp_df['date']).year\n",
        "temp_df['month'] = pd.DatetimeIndex(temp_df['date']).month\n",
        "# Convert to month name\n",
        "temp_df['month name'] = temp_df['month'].apply(lambda x: calendar.month_abbr[x])\n",
        "# Create a new \"Month Year\" column\n",
        "temp_df['Month Year'] = temp_df['month name'] + ' ' + temp_df['year'].astype('str')\n",
        "# Create a new dataframe containing assessment counts per month, year. \n",
        "assess_count_month = temp_df.groupby(\n",
        "    ['Month Year', 'month', 'year']).size().reset_index(name=\"Assessments Count\"\n",
        "    )\n",
        "# Sort values by year then month\n",
        "assess_count_month = assess_count_month.sort_values(['year', 'month'])\n",
        "\n",
        "assess_count_month = assess_count_month.reset_index(drop=True)\n",
        "# Check the new dataframe\n",
        "assess_count_month\n",
        "\n",
        "del temp_df"
      ],
      "execution_count": 7,
      "outputs": [
        {
          "output_type": "execute_result",
          "data": {
            "text/html": [
              "<div>\n",
              "<style scoped>\n",
              "    .dataframe tbody tr th:only-of-type {\n",
              "        vertical-align: middle;\n",
              "    }\n",
              "\n",
              "    .dataframe tbody tr th {\n",
              "        vertical-align: top;\n",
              "    }\n",
              "\n",
              "    .dataframe thead th {\n",
              "        text-align: right;\n",
              "    }\n",
              "</style>\n",
              "<table border=\"1\" class=\"dataframe\">\n",
              "  <thead>\n",
              "    <tr style=\"text-align: right;\">\n",
              "      <th></th>\n",
              "      <th>Month Year</th>\n",
              "      <th>month</th>\n",
              "      <th>year</th>\n",
              "      <th>Assessments Count</th>\n",
              "    </tr>\n",
              "  </thead>\n",
              "  <tbody>\n",
              "    <tr>\n",
              "      <th>0</th>\n",
              "      <td>Jun 2019</td>\n",
              "      <td>6</td>\n",
              "      <td>2019</td>\n",
              "      <td>177</td>\n",
              "    </tr>\n",
              "    <tr>\n",
              "      <th>1</th>\n",
              "      <td>Jul 2019</td>\n",
              "      <td>7</td>\n",
              "      <td>2019</td>\n",
              "      <td>471</td>\n",
              "    </tr>\n",
              "    <tr>\n",
              "      <th>2</th>\n",
              "      <td>Aug 2019</td>\n",
              "      <td>8</td>\n",
              "      <td>2019</td>\n",
              "      <td>1067</td>\n",
              "    </tr>\n",
              "    <tr>\n",
              "      <th>3</th>\n",
              "      <td>Sep 2019</td>\n",
              "      <td>9</td>\n",
              "      <td>2019</td>\n",
              "      <td>1950</td>\n",
              "    </tr>\n",
              "    <tr>\n",
              "      <th>4</th>\n",
              "      <td>Oct 2019</td>\n",
              "      <td>10</td>\n",
              "      <td>2019</td>\n",
              "      <td>2744</td>\n",
              "    </tr>\n",
              "    <tr>\n",
              "      <th>5</th>\n",
              "      <td>Nov 2019</td>\n",
              "      <td>11</td>\n",
              "      <td>2019</td>\n",
              "      <td>3234</td>\n",
              "    </tr>\n",
              "    <tr>\n",
              "      <th>6</th>\n",
              "      <td>Dec 2019</td>\n",
              "      <td>12</td>\n",
              "      <td>2019</td>\n",
              "      <td>3814</td>\n",
              "    </tr>\n",
              "    <tr>\n",
              "      <th>7</th>\n",
              "      <td>Jan 2020</td>\n",
              "      <td>1</td>\n",
              "      <td>2020</td>\n",
              "      <td>4953</td>\n",
              "    </tr>\n",
              "    <tr>\n",
              "      <th>8</th>\n",
              "      <td>Feb 2020</td>\n",
              "      <td>2</td>\n",
              "      <td>2020</td>\n",
              "      <td>5304</td>\n",
              "    </tr>\n",
              "    <tr>\n",
              "      <th>9</th>\n",
              "      <td>Mar 2020</td>\n",
              "      <td>3</td>\n",
              "      <td>2020</td>\n",
              "      <td>6158</td>\n",
              "    </tr>\n",
              "    <tr>\n",
              "      <th>10</th>\n",
              "      <td>Apr 2020</td>\n",
              "      <td>4</td>\n",
              "      <td>2020</td>\n",
              "      <td>7072</td>\n",
              "    </tr>\n",
              "    <tr>\n",
              "      <th>11</th>\n",
              "      <td>May 2020</td>\n",
              "      <td>5</td>\n",
              "      <td>2020</td>\n",
              "      <td>5797</td>\n",
              "    </tr>\n",
              "    <tr>\n",
              "      <th>12</th>\n",
              "      <td>Jun 2020</td>\n",
              "      <td>6</td>\n",
              "      <td>2020</td>\n",
              "      <td>5420</td>\n",
              "    </tr>\n",
              "    <tr>\n",
              "      <th>13</th>\n",
              "      <td>Jul 2020</td>\n",
              "      <td>7</td>\n",
              "      <td>2020</td>\n",
              "      <td>5537</td>\n",
              "    </tr>\n",
              "  </tbody>\n",
              "</table>\n",
              "</div>"
            ],
            "text/plain": [
              "   Month Year  month  year  Assessments Count\n",
              "0    Jun 2019      6  2019                177\n",
              "1    Jul 2019      7  2019                471\n",
              "2    Aug 2019      8  2019               1067\n",
              "3    Sep 2019      9  2019               1950\n",
              "4    Oct 2019     10  2019               2744\n",
              "5    Nov 2019     11  2019               3234\n",
              "6    Dec 2019     12  2019               3814\n",
              "7    Jan 2020      1  2020               4953\n",
              "8    Feb 2020      2  2020               5304\n",
              "9    Mar 2020      3  2020               6158\n",
              "10   Apr 2020      4  2020               7072\n",
              "11   May 2020      5  2020               5797\n",
              "12   Jun 2020      6  2020               5420\n",
              "13   Jul 2020      7  2020               5537"
            ]
          },
          "metadata": {
            "tags": []
          },
          "execution_count": 7
        }
      ]
    },
    {
      "cell_type": "code",
      "metadata": {
        "colab": {
          "base_uri": "https://localhost:8080/",
          "height": 533
        },
        "id": "ZCRSuuJotGl-",
        "outputId": "64ac7a53-40b7-4b4b-e182-287008cc1c12"
      },
      "source": [
        "# Plotting\n",
        "fig = plt.figure()\n",
        "ax = assess_count_month.plot(\n",
        "    x='Month Year', y=\"Assessments Count\", color='#A1CCC3', figsize=(15,8)\n",
        "    )\n",
        "ax.set_xticks([i for i in range(0, len(assess_count_month[\"Month Year\"].values))])\n",
        "ax.set_xticklabels(assess_count_month[\"Month Year\"])\n",
        "ax.set_title(\"Monthly Assessments Count from June 2019 to July 2020\")\n",
        "ax.set_xlabel(\"Date\", size=12)\n",
        "ax.set_ylabel(\"Assessments Count\", size=12)\n",
        "ax.autoscale(tight=False)\n",
        "plt.show()"
      ],
      "execution_count": 145,
      "outputs": [
        {
          "output_type": "display_data",
          "data": {
            "text/plain": [
              "<Figure size 432x288 with 0 Axes>"
            ]
          },
          "metadata": {
            "tags": []
          }
        },
        {
          "output_type": "display_data",
          "data": {
            "image/png": "[encoded data removed]",
            "text/plain": [
              "<Figure size 1080x576 with 1 Axes>"
            ]
          },
          "metadata": {
            "tags": [],
            "needs_background": "light"
          }
        }
      ]
    },
    {
      "cell_type": "markdown",
      "metadata": {
        "id": "CI8T4Gf8xYVo"
      },
      "source": [
        "It is much clearer looking at this line chart. The chart shows that the number of monthly assessments taken increased gradually for 10 months straight from June 2019 before peaked at April 2020 with over 7000 assessments taken in that month. However, May 2020 witnessed a sharp fall in the count to under 6000. This number stayed about the same in the last two months of the period. The sharp increase in the first three months of 2020 is possibly due to the influence of Covid-19 pandemic as the country reported its first cases during this period."
      ]
    },
    {
      "cell_type": "markdown",
      "metadata": {
        "id": "twOnESfYyqTL"
      },
      "source": [
        "### **Grouped by 'patient_id'**\n",
        "The next approach is to group by 'patient_id' to examine their patterns of taking the GAD-7 assessment throughout the period. Hopefully, I can get some more insights from this."
      ]
    },
    {
      "cell_type": "markdown",
      "metadata": {
        "id": "gNINk3qB1eCg"
      },
      "source": [
        "First, let's see how many individual patients are included in this dataset."
      ]
    },
    {
      "cell_type": "code",
      "metadata": {
        "colab": {
          "base_uri": "https://localhost:8080/"
        },
        "id": "pBxP4XGxvAnD",
        "outputId": "cafda9f6-d927-4ae7-e221-f50ab9815d2c"
      },
      "source": [
        "print(f\"The number of unique patients: {len(np.unique(df['patient_id']))}\")"
      ],
      "execution_count": 72,
      "outputs": [
        {
          "output_type": "stream",
          "text": [
            "The number of unique patients: 15502\n"
          ],
          "name": "stdout"
        }
      ]
    },
    {
      "cell_type": "markdown",
      "metadata": {
        "id": "96mo56MO3W-H"
      },
      "source": [
        "Let's check the frequency of these unique patients appearing in the dataset. In other words, let's see how many times each patient took the assessment."
      ]
    },
    {
      "cell_type": "code",
      "metadata": {
        "colab": {
          "base_uri": "https://localhost:8080/",
          "height": 669
        },
        "id": "qAW9UHvK2eCF",
        "outputId": "59686ad3-88ab-4dee-b8d0-d16374d4900a"
      },
      "source": [
        "patient_count = df.groupby(['patient_id']).size().reset_index(name=\"times_taken\")\n",
        "# Sort the values in descending order\n",
        "patient_count.sort_values(by=['times_taken'], ascending=False, inplace=True)\n",
        "patient_count.reset_index(drop=True, inplace=True)\n",
        "patient_count.head(20)"
      ],
      "execution_count": 103,
      "outputs": [
        {
          "output_type": "execute_result",
          "data": {
            "text/html": [
              "<div>\n",
              "<style scoped>\n",
              "    .dataframe tbody tr th:only-of-type {\n",
              "        vertical-align: middle;\n",
              "    }\n",
              "\n",
              "    .dataframe tbody tr th {\n",
              "        vertical-align: top;\n",
              "    }\n",
              "\n",
              "    .dataframe thead th {\n",
              "        text-align: right;\n",
              "    }\n",
              "</style>\n",
              "<table border=\"1\" class=\"dataframe\">\n",
              "  <thead>\n",
              "    <tr style=\"text-align: right;\">\n",
              "      <th></th>\n",
              "      <th>patient_id</th>\n",
              "      <th>times_taken</th>\n",
              "    </tr>\n",
              "  </thead>\n",
              "  <tbody>\n",
              "    <tr>\n",
              "      <th>0</th>\n",
              "      <td>10687</td>\n",
              "      <td>84</td>\n",
              "    </tr>\n",
              "    <tr>\n",
              "      <th>1</th>\n",
              "      <td>6574</td>\n",
              "      <td>42</td>\n",
              "    </tr>\n",
              "    <tr>\n",
              "      <th>2</th>\n",
              "      <td>12307</td>\n",
              "      <td>38</td>\n",
              "    </tr>\n",
              "    <tr>\n",
              "      <th>3</th>\n",
              "      <td>13874</td>\n",
              "      <td>34</td>\n",
              "    </tr>\n",
              "    <tr>\n",
              "      <th>4</th>\n",
              "      <td>13855</td>\n",
              "      <td>34</td>\n",
              "    </tr>\n",
              "    <tr>\n",
              "      <th>5</th>\n",
              "      <td>14779</td>\n",
              "      <td>33</td>\n",
              "    </tr>\n",
              "    <tr>\n",
              "      <th>6</th>\n",
              "      <td>11538</td>\n",
              "      <td>32</td>\n",
              "    </tr>\n",
              "    <tr>\n",
              "      <th>7</th>\n",
              "      <td>1939</td>\n",
              "      <td>31</td>\n",
              "    </tr>\n",
              "    <tr>\n",
              "      <th>8</th>\n",
              "      <td>5670</td>\n",
              "      <td>28</td>\n",
              "    </tr>\n",
              "    <tr>\n",
              "      <th>9</th>\n",
              "      <td>1867</td>\n",
              "      <td>28</td>\n",
              "    </tr>\n",
              "    <tr>\n",
              "      <th>10</th>\n",
              "      <td>15464</td>\n",
              "      <td>26</td>\n",
              "    </tr>\n",
              "    <tr>\n",
              "      <th>11</th>\n",
              "      <td>2462</td>\n",
              "      <td>24</td>\n",
              "    </tr>\n",
              "    <tr>\n",
              "      <th>12</th>\n",
              "      <td>6958</td>\n",
              "      <td>22</td>\n",
              "    </tr>\n",
              "    <tr>\n",
              "      <th>13</th>\n",
              "      <td>4576</td>\n",
              "      <td>22</td>\n",
              "    </tr>\n",
              "    <tr>\n",
              "      <th>14</th>\n",
              "      <td>10923</td>\n",
              "      <td>21</td>\n",
              "    </tr>\n",
              "    <tr>\n",
              "      <th>15</th>\n",
              "      <td>14122</td>\n",
              "      <td>21</td>\n",
              "    </tr>\n",
              "    <tr>\n",
              "      <th>16</th>\n",
              "      <td>4945</td>\n",
              "      <td>21</td>\n",
              "    </tr>\n",
              "    <tr>\n",
              "      <th>17</th>\n",
              "      <td>9834</td>\n",
              "      <td>20</td>\n",
              "    </tr>\n",
              "    <tr>\n",
              "      <th>18</th>\n",
              "      <td>12095</td>\n",
              "      <td>20</td>\n",
              "    </tr>\n",
              "    <tr>\n",
              "      <th>19</th>\n",
              "      <td>2594</td>\n",
              "      <td>20</td>\n",
              "    </tr>\n",
              "  </tbody>\n",
              "</table>\n",
              "</div>"
            ],
            "text/plain": [
              "    patient_id  times_taken\n",
              "0        10687           84\n",
              "1         6574           42\n",
              "2        12307           38\n",
              "3        13874           34\n",
              "4        13855           34\n",
              "5        14779           33\n",
              "6        11538           32\n",
              "7         1939           31\n",
              "8         5670           28\n",
              "9         1867           28\n",
              "10       15464           26\n",
              "11        2462           24\n",
              "12        6958           22\n",
              "13        4576           22\n",
              "14       10923           21\n",
              "15       14122           21\n",
              "16        4945           21\n",
              "17        9834           20\n",
              "18       12095           20\n",
              "19        2594           20"
            ]
          },
          "metadata": {
            "tags": []
          },
          "execution_count": 103
        }
      ]
    },
    {
      "cell_type": "code",
      "metadata": {
        "colab": {
          "base_uri": "https://localhost:8080/"
        },
        "id": "Wqij6DI46kG3",
        "outputId": "56d1cbee-f16d-40b8-a43a-bc19465c6c6e"
      },
      "source": [
        "print(\"Percentage of patients taking the test only once:\")\n",
        "print(round(patient_count[patient_count == 1].sum(axis=0)['times_taken']/patient_count.shape[0]*100, 2), \"%\")"
      ],
      "execution_count": 102,
      "outputs": [
        {
          "output_type": "stream",
          "text": [
            "Percentage of patients taking the test only once:\n",
            "29.65 %\n"
          ],
          "name": "stdout"
        }
      ]
    },
    {
      "cell_type": "markdown",
      "metadata": {
        "id": "M1pTJo0Y7hTA"
      },
      "source": [
        "Nearly 30% of the total number of patients only one chance to take the assessment. This observation can be due to various reasons including:\n",
        "\n",
        "*   A number of patients were in the \"testing phase\".\n",
        "*   A number of patients were \"cured\" between the two assessments which means they no longer needed to take the assessment.\n",
        "*   System flaws in tracking the number of tests taken by patients.\n",
        "*   Human flaws in giving assessments to patients on time.\n",
        "*   Some patients just didn't want to retake the assessments due to personal reasons.\n",
        "\n",
        "Again, these are all hypotheses.\n",
        "\n",
        "\n",
        "\n",
        "\n",
        "\n",
        "\n",
        "\n",
        "\n"
      ]
    },
    {
      "cell_type": "markdown",
      "metadata": {
        "id": "MIY4wxlo80AZ"
      },
      "source": [
        "Before moving on to the next section, I want to discover the monthly total number of patients taking assessments. This is an effort to test one of the hypotheses mentioned in the ***Grouped by 'date'*** part where I suggest that the increased number of patients taking the test in 2020 is among the factors creating the rise of assessments count in 2020 compared to 2019.\n",
        "\n",
        "First, let's create a dataframe containing a month-year column and another column listed out all the individual patients taking the tests in each month."
      ]
    },
    {
      "cell_type": "code",
      "metadata": {
        "colab": {
          "base_uri": "https://localhost:8080/",
          "height": 419
        },
        "id": "h9j8fFP97AKH",
        "outputId": "d02f27ad-4d4a-4a2f-ebd1-056c795ca286"
      },
      "source": [
        "# Create a copy of the original dataframe\n",
        "temp_df = df.copy()\n",
        "# Extract year and month\n",
        "temp_df['year'] = pd.DatetimeIndex(temp_df['date']).year\n",
        "temp_df['month'] = pd.DatetimeIndex(temp_df['date']).month\n",
        "# Convert to month name\n",
        "temp_df['month name'] = temp_df['month'].apply(lambda x: calendar.month_abbr[x])\n",
        "# Create a new \"Month Year\" column\n",
        "temp_df['Month Year'] = temp_df['month name'] + ' ' + temp_df['year'].astype('str')\n",
        "# Create a new dataframe containing patient counts per month, year. \n",
        "patient_month = temp_df.groupby(\n",
        "    ['Month Year', 'month', 'year', 'patient_id']).size().reset_index(name='Patients Count'\n",
        "    )\n",
        "# Sort values by year then month\n",
        "patient_month = patient_month.sort_values(['year', 'month'])\n",
        "\n",
        "patient_month.reset_index(drop=True, inplace=True)\n",
        "# Check the dataframe\n",
        "patient_month\n",
        "\n",
        "del temp_df"
      ],
      "execution_count": 140,
      "outputs": [
        {
          "output_type": "execute_result",
          "data": {
            "text/html": [
              "<div>\n",
              "<style scoped>\n",
              "    .dataframe tbody tr th:only-of-type {\n",
              "        vertical-align: middle;\n",
              "    }\n",
              "\n",
              "    .dataframe tbody tr th {\n",
              "        vertical-align: top;\n",
              "    }\n",
              "\n",
              "    .dataframe thead th {\n",
              "        text-align: right;\n",
              "    }\n",
              "</style>\n",
              "<table border=\"1\" class=\"dataframe\">\n",
              "  <thead>\n",
              "    <tr style=\"text-align: right;\">\n",
              "      <th></th>\n",
              "      <th>Month Year</th>\n",
              "      <th>month</th>\n",
              "      <th>year</th>\n",
              "      <th>patient_id</th>\n",
              "      <th>Patients Count</th>\n",
              "    </tr>\n",
              "  </thead>\n",
              "  <tbody>\n",
              "    <tr>\n",
              "      <th>0</th>\n",
              "      <td>Jun 2019</td>\n",
              "      <td>6</td>\n",
              "      <td>2019</td>\n",
              "      <td>15</td>\n",
              "      <td>1</td>\n",
              "    </tr>\n",
              "    <tr>\n",
              "      <th>1</th>\n",
              "      <td>Jun 2019</td>\n",
              "      <td>6</td>\n",
              "      <td>2019</td>\n",
              "      <td>365</td>\n",
              "      <td>1</td>\n",
              "    </tr>\n",
              "    <tr>\n",
              "      <th>2</th>\n",
              "      <td>Jun 2019</td>\n",
              "      <td>6</td>\n",
              "      <td>2019</td>\n",
              "      <td>571</td>\n",
              "      <td>1</td>\n",
              "    </tr>\n",
              "    <tr>\n",
              "      <th>3</th>\n",
              "      <td>Jun 2019</td>\n",
              "      <td>6</td>\n",
              "      <td>2019</td>\n",
              "      <td>610</td>\n",
              "      <td>1</td>\n",
              "    </tr>\n",
              "    <tr>\n",
              "      <th>4</th>\n",
              "      <td>Jun 2019</td>\n",
              "      <td>6</td>\n",
              "      <td>2019</td>\n",
              "      <td>789</td>\n",
              "      <td>1</td>\n",
              "    </tr>\n",
              "    <tr>\n",
              "      <th>...</th>\n",
              "      <td>...</td>\n",
              "      <td>...</td>\n",
              "      <td>...</td>\n",
              "      <td>...</td>\n",
              "      <td>...</td>\n",
              "    </tr>\n",
              "    <tr>\n",
              "      <th>44795</th>\n",
              "      <td>Jul 2020</td>\n",
              "      <td>7</td>\n",
              "      <td>2020</td>\n",
              "      <td>18388</td>\n",
              "      <td>1</td>\n",
              "    </tr>\n",
              "    <tr>\n",
              "      <th>44796</th>\n",
              "      <td>Jul 2020</td>\n",
              "      <td>7</td>\n",
              "      <td>2020</td>\n",
              "      <td>18390</td>\n",
              "      <td>1</td>\n",
              "    </tr>\n",
              "    <tr>\n",
              "      <th>44797</th>\n",
              "      <td>Jul 2020</td>\n",
              "      <td>7</td>\n",
              "      <td>2020</td>\n",
              "      <td>18395</td>\n",
              "      <td>1</td>\n",
              "    </tr>\n",
              "    <tr>\n",
              "      <th>44798</th>\n",
              "      <td>Jul 2020</td>\n",
              "      <td>7</td>\n",
              "      <td>2020</td>\n",
              "      <td>18396</td>\n",
              "      <td>1</td>\n",
              "    </tr>\n",
              "    <tr>\n",
              "      <th>44799</th>\n",
              "      <td>Jul 2020</td>\n",
              "      <td>7</td>\n",
              "      <td>2020</td>\n",
              "      <td>18399</td>\n",
              "      <td>1</td>\n",
              "    </tr>\n",
              "  </tbody>\n",
              "</table>\n",
              "<p>44800 rows × 5 columns</p>\n",
              "</div>"
            ],
            "text/plain": [
              "      Month Year  month  year  patient_id  Patients Count\n",
              "0       Jun 2019      6  2019          15               1\n",
              "1       Jun 2019      6  2019         365               1\n",
              "2       Jun 2019      6  2019         571               1\n",
              "3       Jun 2019      6  2019         610               1\n",
              "4       Jun 2019      6  2019         789               1\n",
              "...          ...    ...   ...         ...             ...\n",
              "44795   Jul 2020      7  2020       18388               1\n",
              "44796   Jul 2020      7  2020       18390               1\n",
              "44797   Jul 2020      7  2020       18395               1\n",
              "44798   Jul 2020      7  2020       18396               1\n",
              "44799   Jul 2020      7  2020       18399               1\n",
              "\n",
              "[44800 rows x 5 columns]"
            ]
          },
          "metadata": {
            "tags": []
          },
          "execution_count": 140
        }
      ]
    },
    {
      "cell_type": "markdown",
      "metadata": {
        "id": "P1Rsv42HAVOq"
      },
      "source": [
        "Let's separate this dataframe into a 2019 table and a 2020 table. Also, I will count the total number of individual patients in each month."
      ]
    },
    {
      "cell_type": "code",
      "metadata": {
        "id": "BbxG134sAi6R"
      },
      "source": [
        "patient_month = patient_month.groupby(['Month Year', 'month', 'year']).size().reset_index(name='Patients Count')\n",
        "patient_month.sort_values(['year', 'month'], inplace=True)\n",
        "# 2019\n",
        "patient_count_2019 = patient_month[patient_month['year']==2019]\n",
        "# 2020\n",
        "patient_count_2020 = patient_month[patient_month['year']==2020]"
      ],
      "execution_count": 141,
      "outputs": []
    },
    {
      "cell_type": "markdown",
      "metadata": {
        "id": "bfDptBQ1BmCx"
      },
      "source": [
        "Now, let's visualize it."
      ]
    },
    {
      "cell_type": "code",
      "metadata": {
        "colab": {
          "base_uri": "https://localhost:8080/",
          "height": 479
        },
        "id": "dRfMJnr6Bx-o",
        "outputId": "f194e435-6c82-44e1-ab90-bbde08ddfc7d"
      },
      "source": [
        "# Plotting 2019\n",
        "fig = plt.figure()\n",
        "ax = patient_count_2019.plot.bar(\n",
        "    x=\"Month Year\", y=\"Patients Count\", color='#A1CCC3',\n",
        "    figsize=(15,7), label=\"Patients Count\"\n",
        "    )\n",
        "ax.set_xticklabels(patient_count_2019[\"Month Year\"], rotation=0)\n",
        "# Setting labels \n",
        "ax.set_title(\"Monthly patients counts in 2019\", size=14)\n",
        "ax.set_xlabel(\"Date\", size=12)\n",
        "ax.set_ylabel(\"Patients Count\", size=12)\n",
        "ax.legend()\n",
        "ax.autoscale(tight=False)\n",
        "plt.show()"
      ],
      "execution_count": 142,
      "outputs": [
        {
          "output_type": "display_data",
          "data": {
            "text/plain": [
              "<Figure size 432x288 with 0 Axes>"
            ]
          },
          "metadata": {
            "tags": []
          }
        },
        {
          "output_type": "display_data",
          "data": {
            "image/png": "[encoded data removed]",
            "text/plain": [
              "<Figure size 1080x504 with 1 Axes>"
            ]
          },
          "metadata": {
            "tags": [],
            "needs_background": "light"
          }
        }
      ]
    },
    {
      "cell_type": "code",
      "metadata": {
        "colab": {
          "base_uri": "https://localhost:8080/",
          "height": 479
        },
        "id": "0NXrZqT0Blpw",
        "outputId": "371a6f2f-3efd-40bf-e183-1ae813d37cc5"
      },
      "source": [
        "# Plotting 2020\n",
        "fig = plt.figure()\n",
        "ax = patient_count_2020.plot.bar(\n",
        "    x=\"Month Year\", y=\"Patients Count\", color='#72B3A5',\n",
        "    figsize=(15,7), label=\"Patients Count\"\n",
        "    )\n",
        "ax.set_xticklabels(patient_count_2020[\"Month Year\"], rotation=0)\n",
        "# Setting labels \n",
        "ax.set_title(\"Monthly patients counts in 2020\", size=14)\n",
        "ax.set_xlabel(\"Date\", size=12)\n",
        "ax.set_ylabel(\"Patients Count\", size=12)\n",
        "ax.legend()\n",
        "ax.autoscale(tight=False)\n",
        "plt.show()"
      ],
      "execution_count": 143,
      "outputs": [
        {
          "output_type": "display_data",
          "data": {
            "text/plain": [
              "<Figure size 432x288 with 0 Axes>"
            ]
          },
          "metadata": {
            "tags": []
          }
        },
        {
          "output_type": "display_data",
          "data": {
            "image/png": "[encoded data removed]",
            "text/plain": [
              "<Figure size 1080x504 with 1 Axes>"
            ]
          },
          "metadata": {
            "tags": [],
            "needs_background": "light"
          }
        }
      ]
    },
    {
      "cell_type": "markdown",
      "metadata": {
        "id": "ukG51xOsDUKI"
      },
      "source": [
        "Put that all together, we have..."
      ]
    },
    {
      "cell_type": "code",
      "metadata": {
        "colab": {
          "base_uri": "https://localhost:8080/",
          "height": 533
        },
        "id": "Ew3B4YsODWeT",
        "outputId": "c42d6dc2-2d90-48ab-de5c-712a53bd5425"
      },
      "source": [
        "# Plotting\n",
        "fig = plt.figure()\n",
        "ax = patient_month.plot(\n",
        "    x='Month Year', y=\"Patients Count\", color='#A1CCC3', figsize=(15,8)\n",
        "    )\n",
        "ax.set_xticks([i for i in range(0, len(patient_month[\"Month Year\"].values))])\n",
        "ax.set_xticklabels(patient_month[\"Month Year\"])\n",
        "ax.set_title(\"Monthly Patients Count from June 2019 to July 2020\")\n",
        "ax.set_xlabel(\"Date\", size=12)\n",
        "ax.set_ylabel(\"Patients Count\", size=12)\n",
        "ax.autoscale(tight=False)\n",
        "plt.show()"
      ],
      "execution_count": 144,
      "outputs": [
        {
          "output_type": "display_data",
          "data": {
            "text/plain": [
              "<Figure size 432x288 with 0 Axes>"
            ]
          },
          "metadata": {
            "tags": []
          }
        },
        {
          "output_type": "display_data",
          "data": {
            "image/png": "[encoded data removed]",
            "text/plain": [
              "<Figure size 1080x576 with 1 Axes>"
            ]
          },
          "metadata": {
            "tags": [],
            "needs_background": "light"
          }
        }
      ]
    },
    {
      "cell_type": "markdown",
      "metadata": {
        "id": "LlswJR_0FitL"
      },
      "source": [
        "There is an incredible resemblance between this chart and the ***Monthly Assessments Count from June 2019 to July 2020*** chart. The hypothesis is, therefore, confirmed. Further analysis is necessary to test the rest of the hypotheses, however, I decide to leave them out of the scope of this project because of the time constraint."
      ]
    },
    {
      "cell_type": "markdown",
      "metadata": {
        "id": "GE70zHQSHpIi"
      },
      "source": [
        "### **Grouped by 'score'**\n",
        "Finally, let's look at the most interesting and meaningful attribute: *'score'*. This is the column that will be used to identify the patients who will need further clinical evaluation. There are a lot of approaches we can take from here to analyze this attribute. The approaches that need to be prioritized are the ones that align perfectly with the desired outcome of the business problem which should be planned out before looking at the data. This requires feedbacks from the mental health providers and their patients on what kinds of information they expect to get from the assessments. Unfortunately, the scope of this take-home project doesn't allow me to get access to such valuable information. As the result, I will conduct two quick analysis that I believe are helpful, at least at some levels, to both the mental health providers and the patients.\n",
        "\n",
        "The first analysis will simply show a statiscal view of the percentage of assessment results falling into the 'red zone' - a phrase that I come up with myself to categorize the people who turned out to require extra clinical evaluation after taking the assessment - throughout the period. The second analysis will be my effort to track the scores of the top 3 patients with the highest test-taking frequency based on the *patient_count* dataframe that I have created in the ***Grouped by 'patient_id'*** section."
      ]
    },
    {
      "cell_type": "markdown",
      "metadata": {
        "id": "I-heFcnuMnEg"
      },
      "source": [
        "#### First approach\n",
        "Considering the fact that a patient's status can move back and forth between the 'red zone' and the 'safe zone' - another term that I come up with, basically the opposite of 'red zone' in a short time frame, I won't try to produce a statical view on the **number of patients** falling into the 'red zone'. Instead of that, I will visualize the percentage of **assessment results** falling into the two pre-defined zones. This approach, in a way, neglects the influence of the individuality of the patients, but that is the ultimate purpose - to simplify the analysis. In other words, let's assume that no one took the assessment more than once in a single month."
      ]
    },
    {
      "cell_type": "markdown",
      "metadata": {
        "id": "M9LLK0uUP8hI"
      },
      "source": [
        "First, let's do a little data preprocessing by replacing the raw scores with categorical values. There are two ways of doing this. I will map the raw scores to 'safe_zone' and 'red_zone', and I will map the raw scores to the severity labels: 'low_to_minimal', 'mild', 'moderate', and 'severe'. These two ways will serve two different purposes."
      ]
    },
    {
      "cell_type": "code",
      "metadata": {
        "colab": {
          "base_uri": "https://localhost:8080/",
          "height": 419
        },
        "id": "v420SJmXHr6y",
        "outputId": "27b76688-5576-4ebc-d4ca-9c417b74bab7"
      },
      "source": [
        "# 'safe_zone' and 'red_zone' mapping\n",
        "df_two = df.copy()\n",
        "df_two['score'] = df_two['score'].map({\n",
        "    0:'safe_zone', 1:'safe_zone', 2:'safe_zone', 3:'safe_zone',\n",
        "    4:'safe_zone', 5:'safe_zone', 6:'safe_zone', 7:'safe_zone',\n",
        "    8:'safe_zone', 9:'safe_zone', 10:'red_zone', 11:'red_zone',\n",
        "    12:'red_zone', 13:'red_zone', 14:'red_zone', 15:'red_zone',\n",
        "    16:'red_zone', 17:'red_zone', 18:'red_zone', 19:'red_zone',\n",
        "    20:'red_zone', 21:'red_zone'\n",
        "})\n",
        "# Check the new dataframe\n",
        "df_two"
      ],
      "execution_count": 4,
      "outputs": [
        {
          "output_type": "execute_result",
          "data": {
            "text/html": [
              "<div>\n",
              "<style scoped>\n",
              "    .dataframe tbody tr th:only-of-type {\n",
              "        vertical-align: middle;\n",
              "    }\n",
              "\n",
              "    .dataframe tbody tr th {\n",
              "        vertical-align: top;\n",
              "    }\n",
              "\n",
              "    .dataframe thead th {\n",
              "        text-align: right;\n",
              "    }\n",
              "</style>\n",
              "<table border=\"1\" class=\"dataframe\">\n",
              "  <thead>\n",
              "    <tr style=\"text-align: right;\">\n",
              "      <th></th>\n",
              "      <th>date</th>\n",
              "      <th>patient_id</th>\n",
              "      <th>type</th>\n",
              "      <th>patient_date_created</th>\n",
              "      <th>score</th>\n",
              "    </tr>\n",
              "  </thead>\n",
              "  <tbody>\n",
              "    <tr>\n",
              "      <th>0</th>\n",
              "      <td>2019-08-26T13:32:43.019162</td>\n",
              "      <td>8430</td>\n",
              "      <td>gad7</td>\n",
              "      <td>2019-06-03T13:23:02.63568</td>\n",
              "      <td>safe_zone</td>\n",
              "    </tr>\n",
              "    <tr>\n",
              "      <th>1</th>\n",
              "      <td>2019-11-15T17:55:11.364877</td>\n",
              "      <td>8430</td>\n",
              "      <td>gad7</td>\n",
              "      <td>2019-06-03T13:23:02.63568</td>\n",
              "      <td>safe_zone</td>\n",
              "    </tr>\n",
              "    <tr>\n",
              "      <th>2</th>\n",
              "      <td>2019-10-07T18:23:29.611351</td>\n",
              "      <td>14338</td>\n",
              "      <td>gad7</td>\n",
              "      <td>2019-06-03T13:32:30.66846</td>\n",
              "      <td>red_zone</td>\n",
              "    </tr>\n",
              "    <tr>\n",
              "      <th>3</th>\n",
              "      <td>2019-11-04T20:16:28.610965</td>\n",
              "      <td>14338</td>\n",
              "      <td>gad7</td>\n",
              "      <td>2019-06-03T13:32:30.66846</td>\n",
              "      <td>safe_zone</td>\n",
              "    </tr>\n",
              "    <tr>\n",
              "      <th>4</th>\n",
              "      <td>2019-12-02T20:56:55.966354</td>\n",
              "      <td>14338</td>\n",
              "      <td>gad7</td>\n",
              "      <td>2019-06-03T13:32:30.66846</td>\n",
              "      <td>safe_zone</td>\n",
              "    </tr>\n",
              "    <tr>\n",
              "      <th>...</th>\n",
              "      <td>...</td>\n",
              "      <td>...</td>\n",
              "      <td>...</td>\n",
              "      <td>...</td>\n",
              "      <td>...</td>\n",
              "    </tr>\n",
              "    <tr>\n",
              "      <th>53693</th>\n",
              "      <td>2020-07-31T13:59:13.201741</td>\n",
              "      <td>10683</td>\n",
              "      <td>gad7</td>\n",
              "      <td>2020-07-31T13:54:20.164253</td>\n",
              "      <td>safe_zone</td>\n",
              "    </tr>\n",
              "    <tr>\n",
              "      <th>53694</th>\n",
              "      <td>2020-07-31T15:08:56.079027</td>\n",
              "      <td>12344</td>\n",
              "      <td>gad7</td>\n",
              "      <td>2020-07-31T15:06:51.04373</td>\n",
              "      <td>safe_zone</td>\n",
              "    </tr>\n",
              "    <tr>\n",
              "      <th>53695</th>\n",
              "      <td>2020-07-31T15:52:50.353265</td>\n",
              "      <td>17475</td>\n",
              "      <td>gad7</td>\n",
              "      <td>2020-07-31T15:40:07.726529</td>\n",
              "      <td>safe_zone</td>\n",
              "    </tr>\n",
              "    <tr>\n",
              "      <th>53696</th>\n",
              "      <td>2020-07-31T17:36:57.057913</td>\n",
              "      <td>9069</td>\n",
              "      <td>gad7</td>\n",
              "      <td>2020-07-31T17:33:27.096572</td>\n",
              "      <td>safe_zone</td>\n",
              "    </tr>\n",
              "    <tr>\n",
              "      <th>53697</th>\n",
              "      <td>2020-07-31T17:58:53.067462</td>\n",
              "      <td>4870</td>\n",
              "      <td>gad7</td>\n",
              "      <td>2020-07-31T17:58:21.004418</td>\n",
              "      <td>safe_zone</td>\n",
              "    </tr>\n",
              "  </tbody>\n",
              "</table>\n",
              "<p>53698 rows × 5 columns</p>\n",
              "</div>"
            ],
            "text/plain": [
              "                             date  ...      score\n",
              "0      2019-08-26T13:32:43.019162  ...  safe_zone\n",
              "1      2019-11-15T17:55:11.364877  ...  safe_zone\n",
              "2      2019-10-07T18:23:29.611351  ...   red_zone\n",
              "3      2019-11-04T20:16:28.610965  ...  safe_zone\n",
              "4      2019-12-02T20:56:55.966354  ...  safe_zone\n",
              "...                           ...  ...        ...\n",
              "53693  2020-07-31T13:59:13.201741  ...  safe_zone\n",
              "53694  2020-07-31T15:08:56.079027  ...  safe_zone\n",
              "53695  2020-07-31T15:52:50.353265  ...  safe_zone\n",
              "53696  2020-07-31T17:36:57.057913  ...  safe_zone\n",
              "53697  2020-07-31T17:58:53.067462  ...  safe_zone\n",
              "\n",
              "[53698 rows x 5 columns]"
            ]
          },
          "metadata": {
            "tags": []
          },
          "execution_count": 4
        }
      ]
    },
    {
      "cell_type": "code",
      "metadata": {
        "colab": {
          "base_uri": "https://localhost:8080/",
          "height": 419
        },
        "id": "KUrWlYl4STla",
        "outputId": "b6a2b94e-e0f3-4a61-b3bf-9753bd7116d0"
      },
      "source": [
        "# Severity labels\n",
        "df_four = df.copy()\n",
        "df_four['score'] = df_four['score'].map({\n",
        "    0:'low_to_minimal', 1:'low_to_minimal', 2:'low_to_minimal', 3:'low_to_minimal',\n",
        "    4:'low_to_minimal', 5:'low_to_minimal', 6:'mild', 7:'mild',\n",
        "    8:'mild', 9:'mild', 10:'mild', 11:'moderate',\n",
        "    12:'moderate', 13:'moderate', 14:'moderate', 15:'moderate',\n",
        "    16:'severe', 17:'severe', 18:'severe', 19:'severe',\n",
        "    20:'severe', 21:'severe'\n",
        "})\n",
        "# Check the new dataframe\n",
        "df_four"
      ],
      "execution_count": 5,
      "outputs": [
        {
          "output_type": "execute_result",
          "data": {
            "text/html": [
              "<div>\n",
              "<style scoped>\n",
              "    .dataframe tbody tr th:only-of-type {\n",
              "        vertical-align: middle;\n",
              "    }\n",
              "\n",
              "    .dataframe tbody tr th {\n",
              "        vertical-align: top;\n",
              "    }\n",
              "\n",
              "    .dataframe thead th {\n",
              "        text-align: right;\n",
              "    }\n",
              "</style>\n",
              "<table border=\"1\" class=\"dataframe\">\n",
              "  <thead>\n",
              "    <tr style=\"text-align: right;\">\n",
              "      <th></th>\n",
              "      <th>date</th>\n",
              "      <th>patient_id</th>\n",
              "      <th>type</th>\n",
              "      <th>patient_date_created</th>\n",
              "      <th>score</th>\n",
              "    </tr>\n",
              "  </thead>\n",
              "  <tbody>\n",
              "    <tr>\n",
              "      <th>0</th>\n",
              "      <td>2019-08-26T13:32:43.019162</td>\n",
              "      <td>8430</td>\n",
              "      <td>gad7</td>\n",
              "      <td>2019-06-03T13:23:02.63568</td>\n",
              "      <td>mild</td>\n",
              "    </tr>\n",
              "    <tr>\n",
              "      <th>1</th>\n",
              "      <td>2019-11-15T17:55:11.364877</td>\n",
              "      <td>8430</td>\n",
              "      <td>gad7</td>\n",
              "      <td>2019-06-03T13:23:02.63568</td>\n",
              "      <td>low_to_minimal</td>\n",
              "    </tr>\n",
              "    <tr>\n",
              "      <th>2</th>\n",
              "      <td>2019-10-07T18:23:29.611351</td>\n",
              "      <td>14338</td>\n",
              "      <td>gad7</td>\n",
              "      <td>2019-06-03T13:32:30.66846</td>\n",
              "      <td>mild</td>\n",
              "    </tr>\n",
              "    <tr>\n",
              "      <th>3</th>\n",
              "      <td>2019-11-04T20:16:28.610965</td>\n",
              "      <td>14338</td>\n",
              "      <td>gad7</td>\n",
              "      <td>2019-06-03T13:32:30.66846</td>\n",
              "      <td>mild</td>\n",
              "    </tr>\n",
              "    <tr>\n",
              "      <th>4</th>\n",
              "      <td>2019-12-02T20:56:55.966354</td>\n",
              "      <td>14338</td>\n",
              "      <td>gad7</td>\n",
              "      <td>2019-06-03T13:32:30.66846</td>\n",
              "      <td>mild</td>\n",
              "    </tr>\n",
              "    <tr>\n",
              "      <th>...</th>\n",
              "      <td>...</td>\n",
              "      <td>...</td>\n",
              "      <td>...</td>\n",
              "      <td>...</td>\n",
              "      <td>...</td>\n",
              "    </tr>\n",
              "    <tr>\n",
              "      <th>53693</th>\n",
              "      <td>2020-07-31T13:59:13.201741</td>\n",
              "      <td>10683</td>\n",
              "      <td>gad7</td>\n",
              "      <td>2020-07-31T13:54:20.164253</td>\n",
              "      <td>low_to_minimal</td>\n",
              "    </tr>\n",
              "    <tr>\n",
              "      <th>53694</th>\n",
              "      <td>2020-07-31T15:08:56.079027</td>\n",
              "      <td>12344</td>\n",
              "      <td>gad7</td>\n",
              "      <td>2020-07-31T15:06:51.04373</td>\n",
              "      <td>low_to_minimal</td>\n",
              "    </tr>\n",
              "    <tr>\n",
              "      <th>53695</th>\n",
              "      <td>2020-07-31T15:52:50.353265</td>\n",
              "      <td>17475</td>\n",
              "      <td>gad7</td>\n",
              "      <td>2020-07-31T15:40:07.726529</td>\n",
              "      <td>mild</td>\n",
              "    </tr>\n",
              "    <tr>\n",
              "      <th>53696</th>\n",
              "      <td>2020-07-31T17:36:57.057913</td>\n",
              "      <td>9069</td>\n",
              "      <td>gad7</td>\n",
              "      <td>2020-07-31T17:33:27.096572</td>\n",
              "      <td>low_to_minimal</td>\n",
              "    </tr>\n",
              "    <tr>\n",
              "      <th>53697</th>\n",
              "      <td>2020-07-31T17:58:53.067462</td>\n",
              "      <td>4870</td>\n",
              "      <td>gad7</td>\n",
              "      <td>2020-07-31T17:58:21.004418</td>\n",
              "      <td>low_to_minimal</td>\n",
              "    </tr>\n",
              "  </tbody>\n",
              "</table>\n",
              "<p>53698 rows × 5 columns</p>\n",
              "</div>"
            ],
            "text/plain": [
              "                             date  ...           score\n",
              "0      2019-08-26T13:32:43.019162  ...            mild\n",
              "1      2019-11-15T17:55:11.364877  ...  low_to_minimal\n",
              "2      2019-10-07T18:23:29.611351  ...            mild\n",
              "3      2019-11-04T20:16:28.610965  ...            mild\n",
              "4      2019-12-02T20:56:55.966354  ...            mild\n",
              "...                           ...  ...             ...\n",
              "53693  2020-07-31T13:59:13.201741  ...  low_to_minimal\n",
              "53694  2020-07-31T15:08:56.079027  ...  low_to_minimal\n",
              "53695  2020-07-31T15:52:50.353265  ...            mild\n",
              "53696  2020-07-31T17:36:57.057913  ...  low_to_minimal\n",
              "53697  2020-07-31T17:58:53.067462  ...  low_to_minimal\n",
              "\n",
              "[53698 rows x 5 columns]"
            ]
          },
          "metadata": {
            "tags": []
          },
          "execution_count": 5
        }
      ]
    },
    {
      "cell_type": "markdown",
      "metadata": {
        "id": "PJJri3MwTdt3"
      },
      "source": [
        "Let's deal with *df_two* first. With this dataframe, I will redo the groupby process that I have done earlier with *'patient id'* to get the monthly counts of records in each of the zone."
      ]
    },
    {
      "cell_type": "code",
      "metadata": {
        "colab": {
          "base_uri": "https://localhost:8080/",
          "height": 917
        },
        "id": "0p0nED-zTFIy",
        "outputId": "584ed1c2-25bb-43c1-8d79-85fc94c88cbe"
      },
      "source": [
        "# Extract year and month\n",
        "df_two['year'] = pd.DatetimeIndex(df_two['date']).year\n",
        "df_two['month'] = pd.DatetimeIndex(df_two['date']).month\n",
        "# Convert to month name\n",
        "df_two['month name'] = df_two['month'].apply(lambda x: calendar.month_abbr[x])\n",
        "# Create a new \"Month Year\" column\n",
        "df_two['Month Year'] = df_two['month name'] + ' ' + df_two['year'].astype('str')\n",
        "# Create a new dataframe containing zones counts per month, year. \n",
        "zone_month = df_two.groupby(\n",
        "    ['Month Year', 'month', 'year', 'score']).size().reset_index(name='Zones Count')\n",
        "# Sort values by year then month\n",
        "zone_month = zone_month.sort_values(['year', 'month'])\n",
        "\n",
        "zone_month.reset_index(drop=True, inplace=True)\n",
        "# Check the dataframe\n",
        "zone_month"
      ],
      "execution_count": 17,
      "outputs": [
        {
          "output_type": "execute_result",
          "data": {
            "text/html": [
              "<div>\n",
              "<style scoped>\n",
              "    .dataframe tbody tr th:only-of-type {\n",
              "        vertical-align: middle;\n",
              "    }\n",
              "\n",
              "    .dataframe tbody tr th {\n",
              "        vertical-align: top;\n",
              "    }\n",
              "\n",
              "    .dataframe thead th {\n",
              "        text-align: right;\n",
              "    }\n",
              "</style>\n",
              "<table border=\"1\" class=\"dataframe\">\n",
              "  <thead>\n",
              "    <tr style=\"text-align: right;\">\n",
              "      <th></th>\n",
              "      <th>Month Year</th>\n",
              "      <th>month</th>\n",
              "      <th>year</th>\n",
              "      <th>score</th>\n",
              "      <th>Zones Count</th>\n",
              "    </tr>\n",
              "  </thead>\n",
              "  <tbody>\n",
              "    <tr>\n",
              "      <th>0</th>\n",
              "      <td>Jun 2019</td>\n",
              "      <td>6</td>\n",
              "      <td>2019</td>\n",
              "      <td>red_zone</td>\n",
              "      <td>75</td>\n",
              "    </tr>\n",
              "    <tr>\n",
              "      <th>1</th>\n",
              "      <td>Jun 2019</td>\n",
              "      <td>6</td>\n",
              "      <td>2019</td>\n",
              "      <td>safe_zone</td>\n",
              "      <td>102</td>\n",
              "    </tr>\n",
              "    <tr>\n",
              "      <th>2</th>\n",
              "      <td>Jul 2019</td>\n",
              "      <td>7</td>\n",
              "      <td>2019</td>\n",
              "      <td>red_zone</td>\n",
              "      <td>117</td>\n",
              "    </tr>\n",
              "    <tr>\n",
              "      <th>3</th>\n",
              "      <td>Jul 2019</td>\n",
              "      <td>7</td>\n",
              "      <td>2019</td>\n",
              "      <td>safe_zone</td>\n",
              "      <td>354</td>\n",
              "    </tr>\n",
              "    <tr>\n",
              "      <th>4</th>\n",
              "      <td>Aug 2019</td>\n",
              "      <td>8</td>\n",
              "      <td>2019</td>\n",
              "      <td>red_zone</td>\n",
              "      <td>299</td>\n",
              "    </tr>\n",
              "    <tr>\n",
              "      <th>5</th>\n",
              "      <td>Aug 2019</td>\n",
              "      <td>8</td>\n",
              "      <td>2019</td>\n",
              "      <td>safe_zone</td>\n",
              "      <td>768</td>\n",
              "    </tr>\n",
              "    <tr>\n",
              "      <th>6</th>\n",
              "      <td>Sep 2019</td>\n",
              "      <td>9</td>\n",
              "      <td>2019</td>\n",
              "      <td>red_zone</td>\n",
              "      <td>497</td>\n",
              "    </tr>\n",
              "    <tr>\n",
              "      <th>7</th>\n",
              "      <td>Sep 2019</td>\n",
              "      <td>9</td>\n",
              "      <td>2019</td>\n",
              "      <td>safe_zone</td>\n",
              "      <td>1453</td>\n",
              "    </tr>\n",
              "    <tr>\n",
              "      <th>8</th>\n",
              "      <td>Oct 2019</td>\n",
              "      <td>10</td>\n",
              "      <td>2019</td>\n",
              "      <td>red_zone</td>\n",
              "      <td>554</td>\n",
              "    </tr>\n",
              "    <tr>\n",
              "      <th>9</th>\n",
              "      <td>Oct 2019</td>\n",
              "      <td>10</td>\n",
              "      <td>2019</td>\n",
              "      <td>safe_zone</td>\n",
              "      <td>2190</td>\n",
              "    </tr>\n",
              "    <tr>\n",
              "      <th>10</th>\n",
              "      <td>Nov 2019</td>\n",
              "      <td>11</td>\n",
              "      <td>2019</td>\n",
              "      <td>red_zone</td>\n",
              "      <td>605</td>\n",
              "    </tr>\n",
              "    <tr>\n",
              "      <th>11</th>\n",
              "      <td>Nov 2019</td>\n",
              "      <td>11</td>\n",
              "      <td>2019</td>\n",
              "      <td>safe_zone</td>\n",
              "      <td>2629</td>\n",
              "    </tr>\n",
              "    <tr>\n",
              "      <th>12</th>\n",
              "      <td>Dec 2019</td>\n",
              "      <td>12</td>\n",
              "      <td>2019</td>\n",
              "      <td>red_zone</td>\n",
              "      <td>637</td>\n",
              "    </tr>\n",
              "    <tr>\n",
              "      <th>13</th>\n",
              "      <td>Dec 2019</td>\n",
              "      <td>12</td>\n",
              "      <td>2019</td>\n",
              "      <td>safe_zone</td>\n",
              "      <td>3177</td>\n",
              "    </tr>\n",
              "    <tr>\n",
              "      <th>14</th>\n",
              "      <td>Jan 2020</td>\n",
              "      <td>1</td>\n",
              "      <td>2020</td>\n",
              "      <td>red_zone</td>\n",
              "      <td>827</td>\n",
              "    </tr>\n",
              "    <tr>\n",
              "      <th>15</th>\n",
              "      <td>Jan 2020</td>\n",
              "      <td>1</td>\n",
              "      <td>2020</td>\n",
              "      <td>safe_zone</td>\n",
              "      <td>4126</td>\n",
              "    </tr>\n",
              "    <tr>\n",
              "      <th>16</th>\n",
              "      <td>Feb 2020</td>\n",
              "      <td>2</td>\n",
              "      <td>2020</td>\n",
              "      <td>red_zone</td>\n",
              "      <td>901</td>\n",
              "    </tr>\n",
              "    <tr>\n",
              "      <th>17</th>\n",
              "      <td>Feb 2020</td>\n",
              "      <td>2</td>\n",
              "      <td>2020</td>\n",
              "      <td>safe_zone</td>\n",
              "      <td>4403</td>\n",
              "    </tr>\n",
              "    <tr>\n",
              "      <th>18</th>\n",
              "      <td>Mar 2020</td>\n",
              "      <td>3</td>\n",
              "      <td>2020</td>\n",
              "      <td>red_zone</td>\n",
              "      <td>1009</td>\n",
              "    </tr>\n",
              "    <tr>\n",
              "      <th>19</th>\n",
              "      <td>Mar 2020</td>\n",
              "      <td>3</td>\n",
              "      <td>2020</td>\n",
              "      <td>safe_zone</td>\n",
              "      <td>5149</td>\n",
              "    </tr>\n",
              "    <tr>\n",
              "      <th>20</th>\n",
              "      <td>Apr 2020</td>\n",
              "      <td>4</td>\n",
              "      <td>2020</td>\n",
              "      <td>red_zone</td>\n",
              "      <td>1126</td>\n",
              "    </tr>\n",
              "    <tr>\n",
              "      <th>21</th>\n",
              "      <td>Apr 2020</td>\n",
              "      <td>4</td>\n",
              "      <td>2020</td>\n",
              "      <td>safe_zone</td>\n",
              "      <td>5946</td>\n",
              "    </tr>\n",
              "    <tr>\n",
              "      <th>22</th>\n",
              "      <td>May 2020</td>\n",
              "      <td>5</td>\n",
              "      <td>2020</td>\n",
              "      <td>red_zone</td>\n",
              "      <td>812</td>\n",
              "    </tr>\n",
              "    <tr>\n",
              "      <th>23</th>\n",
              "      <td>May 2020</td>\n",
              "      <td>5</td>\n",
              "      <td>2020</td>\n",
              "      <td>safe_zone</td>\n",
              "      <td>4985</td>\n",
              "    </tr>\n",
              "    <tr>\n",
              "      <th>24</th>\n",
              "      <td>Jun 2020</td>\n",
              "      <td>6</td>\n",
              "      <td>2020</td>\n",
              "      <td>red_zone</td>\n",
              "      <td>848</td>\n",
              "    </tr>\n",
              "    <tr>\n",
              "      <th>25</th>\n",
              "      <td>Jun 2020</td>\n",
              "      <td>6</td>\n",
              "      <td>2020</td>\n",
              "      <td>safe_zone</td>\n",
              "      <td>4572</td>\n",
              "    </tr>\n",
              "    <tr>\n",
              "      <th>26</th>\n",
              "      <td>Jul 2020</td>\n",
              "      <td>7</td>\n",
              "      <td>2020</td>\n",
              "      <td>red_zone</td>\n",
              "      <td>994</td>\n",
              "    </tr>\n",
              "    <tr>\n",
              "      <th>27</th>\n",
              "      <td>Jul 2020</td>\n",
              "      <td>7</td>\n",
              "      <td>2020</td>\n",
              "      <td>safe_zone</td>\n",
              "      <td>4543</td>\n",
              "    </tr>\n",
              "  </tbody>\n",
              "</table>\n",
              "</div>"
            ],
            "text/plain": [
              "   Month Year  month  year      score  Zones Count\n",
              "0    Jun 2019      6  2019   red_zone           75\n",
              "1    Jun 2019      6  2019  safe_zone          102\n",
              "2    Jul 2019      7  2019   red_zone          117\n",
              "3    Jul 2019      7  2019  safe_zone          354\n",
              "4    Aug 2019      8  2019   red_zone          299\n",
              "5    Aug 2019      8  2019  safe_zone          768\n",
              "6    Sep 2019      9  2019   red_zone          497\n",
              "7    Sep 2019      9  2019  safe_zone         1453\n",
              "8    Oct 2019     10  2019   red_zone          554\n",
              "9    Oct 2019     10  2019  safe_zone         2190\n",
              "10   Nov 2019     11  2019   red_zone          605\n",
              "11   Nov 2019     11  2019  safe_zone         2629\n",
              "12   Dec 2019     12  2019   red_zone          637\n",
              "13   Dec 2019     12  2019  safe_zone         3177\n",
              "14   Jan 2020      1  2020   red_zone          827\n",
              "15   Jan 2020      1  2020  safe_zone         4126\n",
              "16   Feb 2020      2  2020   red_zone          901\n",
              "17   Feb 2020      2  2020  safe_zone         4403\n",
              "18   Mar 2020      3  2020   red_zone         1009\n",
              "19   Mar 2020      3  2020  safe_zone         5149\n",
              "20   Apr 2020      4  2020   red_zone         1126\n",
              "21   Apr 2020      4  2020  safe_zone         5946\n",
              "22   May 2020      5  2020   red_zone          812\n",
              "23   May 2020      5  2020  safe_zone         4985\n",
              "24   Jun 2020      6  2020   red_zone          848\n",
              "25   Jun 2020      6  2020  safe_zone         4572\n",
              "26   Jul 2020      7  2020   red_zone          994\n",
              "27   Jul 2020      7  2020  safe_zone         4543"
            ]
          },
          "metadata": {
            "tags": []
          },
          "execution_count": 17
        }
      ]
    },
    {
      "cell_type": "markdown",
      "metadata": {
        "id": "wqHF3bKoUd1k"
      },
      "source": [
        "After that, let's again separate the dataframe into two familiar smaller ones: 2019 and 2020."
      ]
    },
    {
      "cell_type": "code",
      "metadata": {
        "id": "lOzOGC-mUUHj"
      },
      "source": [
        "# 2019\n",
        "zones_count_2019 = zone_month[zone_month['year']==2019]\n",
        "safe_count_2019 = zones_count_2019[zones_count_2019['score']=='safe_zone']\n",
        "red_count_2019 = zones_count_2019[zones_count_2019['score']=='red_zone']\n",
        "# 2020\n",
        "zones_count_2020 = zone_month[zone_month['year']==2020]\n",
        "safe_count_2020 = zones_count_2020[zones_count_2020['score']=='safe_zone']\n",
        "red_count_2020 = zones_count_2020[zones_count_2020['score']=='red_zone']"
      ],
      "execution_count": 32,
      "outputs": []
    },
    {
      "cell_type": "markdown",
      "metadata": {
        "id": "h4LKmPMkU7KX"
      },
      "source": [
        "Now, comes the visualization part."
      ]
    },
    {
      "cell_type": "code",
      "metadata": {
        "colab": {
          "base_uri": "https://localhost:8080/",
          "height": 585
        },
        "id": "6ouZ68nlHrfT",
        "outputId": "f01d8ac3-5f97-4faa-efa1-b9d089eaa1a4"
      },
      "source": [
        "# Plotting 2019\n",
        "\n",
        "fig, ax = plt.subplots(1,1, figsize=(15,8))\n",
        "# Set the bar width\n",
        "width = 0.25\n",
        "\n",
        "# Plotting for each axes\n",
        "safe_count_2019.plot.bar(x=\"Month Year\", y=\"Zones Count\", color=\"#A1CCC3\", \n",
        "                         ax=ax, width=width, position=1, label=\"Safe zones\"\n",
        "                         )\n",
        "red_count_2019.plot.bar(x=\"Month Year\", y=\"Zones Count\", color=\"#05261e\", \n",
        "                        ax=ax, width=width, position=0, label=\"Red zones\"\n",
        "                        )\n",
        "ax.set_xticklabels(safe_count_2019[\"Month Year\"], rotation=0) \n",
        "ax.set_xlabel(\"Date\", size=12)\n",
        "ax.set_ylabel(\"Zones Count\", size=12)\n",
        "ax.set_title(\"Monthly Zones Count in 2019\", size=14)\n",
        "ax.set_ylabel(\"Zones Count\", size=12)\n",
        "ax.legend(loc='upper left')\n",
        "fig.tight_layout()\n",
        "plt.show()"
      ],
      "execution_count": 191,
      "outputs": [
        {
          "output_type": "display_data",
          "data": {
            "image/png": "[encoded data removed]",
            "text/plain": [
              "<Figure size 1080x576 with 1 Axes>"
            ]
          },
          "metadata": {
            "tags": [],
            "needs_background": "light"
          }
        }
      ]
    },
    {
      "cell_type": "code",
      "metadata": {
        "colab": {
          "base_uri": "https://localhost:8080/",
          "height": 585
        },
        "id": "M83-t_DgapfV",
        "outputId": "8e18bd1f-f9b9-4e02-b365-08d5ba84bdb7"
      },
      "source": [
        "# Plotting 2020\n",
        "\n",
        "fig, ax = plt.subplots(1,1, figsize=(15,8))\n",
        "# Set the bar width\n",
        "width = 0.25\n",
        "\n",
        "# Plotting for each axes\n",
        "safe_count_2020.plot.bar(x=\"Month Year\", y=\"Zones Count\", color=\"#A1CCC3\", \n",
        "                         ax=ax, width=width, position=1, label=\"Safe zones\"\n",
        "                         )\n",
        "red_count_2020.plot.bar(x=\"Month Year\", y=\"Zones Count\", color=\"#05261e\", \n",
        "                        ax=ax, width=width, position=0, label=\"Red zones\"\n",
        "                        )\n",
        "ax.set_xticklabels(safe_count_2020[\"Month Year\"], rotation=0) \n",
        "ax.set_xlabel(\"Date\", size=12)\n",
        "ax.set_ylabel(\"Zones Count\", size=12)\n",
        "ax.set_title(\"Monthly Zones Count in 2020\", size=14)\n",
        "ax.set_ylabel(\"Zones Count\", size=12)\n",
        "ax.legend(loc='upper left')\n",
        "fig.tight_layout()\n",
        "plt.show()"
      ],
      "execution_count": 192,
      "outputs": [
        {
          "output_type": "display_data",
          "data": {
            "image/png": "[encoded data removed]",
            "text/plain": [
              "<Figure size 1080x576 with 1 Axes>"
            ]
          },
          "metadata": {
            "tags": [],
            "needs_background": "light"
          }
        }
      ]
    },
    {
      "cell_type": "markdown",
      "metadata": {
        "id": "5c6XIkshHnez"
      },
      "source": [
        "I will provide a stacked bar graph to display the percentage of the proportion of 'safe_zone' and 'red_zone' more efficiently. Before plotting, I need to make a few transformation to the *zone_month* dataframe."
      ]
    },
    {
      "cell_type": "code",
      "metadata": {
        "colab": {
          "base_uri": "https://localhost:8080/",
          "height": 514
        },
        "id": "9Hf_3JcNM_qf",
        "outputId": "48be15da-244f-41ef-bbc6-4a7c12e5da62"
      },
      "source": [
        "# Make 'safe_zone' and 'red_zone' two columns instead of categorical values\n",
        "zone_pivot = zone_month.pivot(\n",
        "    index=['year', 'month']\n",
        "    , columns='score', values='Zones Count'\n",
        "    )\n",
        "zone_pivot.sort_index(inplace=True)\n",
        "# Add the 'Month Year' column to the new pivoted dataframe\n",
        "zone_pivot.insert(\n",
        "    0, 'Month Year', \n",
        "    safe_count_2019['Month Year'].values.tolist() + safe_count_2020['Month Year'].values.tolist()\n",
        "    )\n",
        "# Check the dataframe\n",
        "zone_pivot"
      ],
      "execution_count": 35,
      "outputs": [
        {
          "output_type": "execute_result",
          "data": {
            "text/html": [
              "<div>\n",
              "<style scoped>\n",
              "    .dataframe tbody tr th:only-of-type {\n",
              "        vertical-align: middle;\n",
              "    }\n",
              "\n",
              "    .dataframe tbody tr th {\n",
              "        vertical-align: top;\n",
              "    }\n",
              "\n",
              "    .dataframe thead th {\n",
              "        text-align: right;\n",
              "    }\n",
              "</style>\n",
              "<table border=\"1\" class=\"dataframe\">\n",
              "  <thead>\n",
              "    <tr style=\"text-align: right;\">\n",
              "      <th></th>\n",
              "      <th>score</th>\n",
              "      <th>Month Year</th>\n",
              "      <th>red_zone</th>\n",
              "      <th>safe_zone</th>\n",
              "    </tr>\n",
              "    <tr>\n",
              "      <th>year</th>\n",
              "      <th>month</th>\n",
              "      <th></th>\n",
              "      <th></th>\n",
              "      <th></th>\n",
              "    </tr>\n",
              "  </thead>\n",
              "  <tbody>\n",
              "    <tr>\n",
              "      <th rowspan=\"7\" valign=\"top\">2019</th>\n",
              "      <th>6</th>\n",
              "      <td>Jun 2019</td>\n",
              "      <td>75</td>\n",
              "      <td>102</td>\n",
              "    </tr>\n",
              "    <tr>\n",
              "      <th>7</th>\n",
              "      <td>Jul 2019</td>\n",
              "      <td>117</td>\n",
              "      <td>354</td>\n",
              "    </tr>\n",
              "    <tr>\n",
              "      <th>8</th>\n",
              "      <td>Aug 2019</td>\n",
              "      <td>299</td>\n",
              "      <td>768</td>\n",
              "    </tr>\n",
              "    <tr>\n",
              "      <th>9</th>\n",
              "      <td>Sep 2019</td>\n",
              "      <td>497</td>\n",
              "      <td>1453</td>\n",
              "    </tr>\n",
              "    <tr>\n",
              "      <th>10</th>\n",
              "      <td>Oct 2019</td>\n",
              "      <td>554</td>\n",
              "      <td>2190</td>\n",
              "    </tr>\n",
              "    <tr>\n",
              "      <th>11</th>\n",
              "      <td>Nov 2019</td>\n",
              "      <td>605</td>\n",
              "      <td>2629</td>\n",
              "    </tr>\n",
              "    <tr>\n",
              "      <th>12</th>\n",
              "      <td>Dec 2019</td>\n",
              "      <td>637</td>\n",
              "      <td>3177</td>\n",
              "    </tr>\n",
              "    <tr>\n",
              "      <th rowspan=\"7\" valign=\"top\">2020</th>\n",
              "      <th>1</th>\n",
              "      <td>Jan 2020</td>\n",
              "      <td>827</td>\n",
              "      <td>4126</td>\n",
              "    </tr>\n",
              "    <tr>\n",
              "      <th>2</th>\n",
              "      <td>Feb 2020</td>\n",
              "      <td>901</td>\n",
              "      <td>4403</td>\n",
              "    </tr>\n",
              "    <tr>\n",
              "      <th>3</th>\n",
              "      <td>Mar 2020</td>\n",
              "      <td>1009</td>\n",
              "      <td>5149</td>\n",
              "    </tr>\n",
              "    <tr>\n",
              "      <th>4</th>\n",
              "      <td>Apr 2020</td>\n",
              "      <td>1126</td>\n",
              "      <td>5946</td>\n",
              "    </tr>\n",
              "    <tr>\n",
              "      <th>5</th>\n",
              "      <td>May 2020</td>\n",
              "      <td>812</td>\n",
              "      <td>4985</td>\n",
              "    </tr>\n",
              "    <tr>\n",
              "      <th>6</th>\n",
              "      <td>Jun 2020</td>\n",
              "      <td>848</td>\n",
              "      <td>4572</td>\n",
              "    </tr>\n",
              "    <tr>\n",
              "      <th>7</th>\n",
              "      <td>Jul 2020</td>\n",
              "      <td>994</td>\n",
              "      <td>4543</td>\n",
              "    </tr>\n",
              "  </tbody>\n",
              "</table>\n",
              "</div>"
            ],
            "text/plain": [
              "score      Month Year  red_zone  safe_zone\n",
              "year month                                \n",
              "2019 6       Jun 2019        75        102\n",
              "     7       Jul 2019       117        354\n",
              "     8       Aug 2019       299        768\n",
              "     9       Sep 2019       497       1453\n",
              "     10      Oct 2019       554       2190\n",
              "     11      Nov 2019       605       2629\n",
              "     12      Dec 2019       637       3177\n",
              "2020 1       Jan 2020       827       4126\n",
              "     2       Feb 2020       901       4403\n",
              "     3       Mar 2020      1009       5149\n",
              "     4       Apr 2020      1126       5946\n",
              "     5       May 2020       812       4985\n",
              "     6       Jun 2020       848       4572\n",
              "     7       Jul 2020       994       4543"
            ]
          },
          "metadata": {
            "tags": []
          },
          "execution_count": 35
        }
      ]
    },
    {
      "cell_type": "markdown",
      "metadata": {
        "id": "d0czwS9LR_C2"
      },
      "source": [
        "Now, I will convert the counts to percentages."
      ]
    },
    {
      "cell_type": "code",
      "metadata": {
        "colab": {
          "base_uri": "https://localhost:8080/",
          "height": 514
        },
        "id": "6TdZ8X4NRwUm",
        "outputId": "8818d59d-cb19-4024-d633-47e90f6f9a55"
      },
      "source": [
        "cols = ['red_zone', 'safe_zone']\n",
        "zone_pivot[cols] = zone_pivot[cols].div(zone_pivot[cols].sum(axis=1), axis=0).multiply(100)\n",
        "# Check the dataframe\n",
        "zone_pivot"
      ],
      "execution_count": 37,
      "outputs": [
        {
          "output_type": "execute_result",
          "data": {
            "text/html": [
              "<div>\n",
              "<style scoped>\n",
              "    .dataframe tbody tr th:only-of-type {\n",
              "        vertical-align: middle;\n",
              "    }\n",
              "\n",
              "    .dataframe tbody tr th {\n",
              "        vertical-align: top;\n",
              "    }\n",
              "\n",
              "    .dataframe thead th {\n",
              "        text-align: right;\n",
              "    }\n",
              "</style>\n",
              "<table border=\"1\" class=\"dataframe\">\n",
              "  <thead>\n",
              "    <tr style=\"text-align: right;\">\n",
              "      <th></th>\n",
              "      <th>score</th>\n",
              "      <th>Month Year</th>\n",
              "      <th>red_zone</th>\n",
              "      <th>safe_zone</th>\n",
              "    </tr>\n",
              "    <tr>\n",
              "      <th>year</th>\n",
              "      <th>month</th>\n",
              "      <th></th>\n",
              "      <th></th>\n",
              "      <th></th>\n",
              "    </tr>\n",
              "  </thead>\n",
              "  <tbody>\n",
              "    <tr>\n",
              "      <th rowspan=\"7\" valign=\"top\">2019</th>\n",
              "      <th>6</th>\n",
              "      <td>Jun 2019</td>\n",
              "      <td>42.372881</td>\n",
              "      <td>57.627119</td>\n",
              "    </tr>\n",
              "    <tr>\n",
              "      <th>7</th>\n",
              "      <td>Jul 2019</td>\n",
              "      <td>24.840764</td>\n",
              "      <td>75.159236</td>\n",
              "    </tr>\n",
              "    <tr>\n",
              "      <th>8</th>\n",
              "      <td>Aug 2019</td>\n",
              "      <td>28.022493</td>\n",
              "      <td>71.977507</td>\n",
              "    </tr>\n",
              "    <tr>\n",
              "      <th>9</th>\n",
              "      <td>Sep 2019</td>\n",
              "      <td>25.487179</td>\n",
              "      <td>74.512821</td>\n",
              "    </tr>\n",
              "    <tr>\n",
              "      <th>10</th>\n",
              "      <td>Oct 2019</td>\n",
              "      <td>20.189504</td>\n",
              "      <td>79.810496</td>\n",
              "    </tr>\n",
              "    <tr>\n",
              "      <th>11</th>\n",
              "      <td>Nov 2019</td>\n",
              "      <td>18.707483</td>\n",
              "      <td>81.292517</td>\n",
              "    </tr>\n",
              "    <tr>\n",
              "      <th>12</th>\n",
              "      <td>Dec 2019</td>\n",
              "      <td>16.701626</td>\n",
              "      <td>83.298374</td>\n",
              "    </tr>\n",
              "    <tr>\n",
              "      <th rowspan=\"7\" valign=\"top\">2020</th>\n",
              "      <th>1</th>\n",
              "      <td>Jan 2020</td>\n",
              "      <td>16.696951</td>\n",
              "      <td>83.303049</td>\n",
              "    </tr>\n",
              "    <tr>\n",
              "      <th>2</th>\n",
              "      <td>Feb 2020</td>\n",
              "      <td>16.987179</td>\n",
              "      <td>83.012821</td>\n",
              "    </tr>\n",
              "    <tr>\n",
              "      <th>3</th>\n",
              "      <td>Mar 2020</td>\n",
              "      <td>16.385190</td>\n",
              "      <td>83.614810</td>\n",
              "    </tr>\n",
              "    <tr>\n",
              "      <th>4</th>\n",
              "      <td>Apr 2020</td>\n",
              "      <td>15.921946</td>\n",
              "      <td>84.078054</td>\n",
              "    </tr>\n",
              "    <tr>\n",
              "      <th>5</th>\n",
              "      <td>May 2020</td>\n",
              "      <td>14.007245</td>\n",
              "      <td>85.992755</td>\n",
              "    </tr>\n",
              "    <tr>\n",
              "      <th>6</th>\n",
              "      <td>Jun 2020</td>\n",
              "      <td>15.645756</td>\n",
              "      <td>84.354244</td>\n",
              "    </tr>\n",
              "    <tr>\n",
              "      <th>7</th>\n",
              "      <td>Jul 2020</td>\n",
              "      <td>17.951960</td>\n",
              "      <td>82.048040</td>\n",
              "    </tr>\n",
              "  </tbody>\n",
              "</table>\n",
              "</div>"
            ],
            "text/plain": [
              "score      Month Year   red_zone  safe_zone\n",
              "year month                                 \n",
              "2019 6       Jun 2019  42.372881  57.627119\n",
              "     7       Jul 2019  24.840764  75.159236\n",
              "     8       Aug 2019  28.022493  71.977507\n",
              "     9       Sep 2019  25.487179  74.512821\n",
              "     10      Oct 2019  20.189504  79.810496\n",
              "     11      Nov 2019  18.707483  81.292517\n",
              "     12      Dec 2019  16.701626  83.298374\n",
              "2020 1       Jan 2020  16.696951  83.303049\n",
              "     2       Feb 2020  16.987179  83.012821\n",
              "     3       Mar 2020  16.385190  83.614810\n",
              "     4       Apr 2020  15.921946  84.078054\n",
              "     5       May 2020  14.007245  85.992755\n",
              "     6       Jun 2020  15.645756  84.354244\n",
              "     7       Jul 2020  17.951960  82.048040"
            ]
          },
          "metadata": {
            "tags": []
          },
          "execution_count": 37
        }
      ]
    },
    {
      "cell_type": "markdown",
      "metadata": {
        "id": "_8XWXatKSe8R"
      },
      "source": [
        "The final step is to plot it out on a stacked bar graph!"
      ]
    },
    {
      "cell_type": "code",
      "metadata": {
        "colab": {
          "base_uri": "https://localhost:8080/",
          "height": 585
        },
        "id": "pukcci8gXpXD",
        "outputId": "d539536b-35dd-44f9-9916-bd3101636544"
      },
      "source": [
        "# Plotting\n",
        "fig, ax = plt.subplots(1,1, figsize=(15,8))\n",
        "colors = ['#A1CCC3','#05261e']\n",
        "zone_pivot.loc[:,['safe_zone', 'red_zone']].plot.bar(stacked=True, color=colors, \n",
        "                                                     ax=ax)\n",
        "ax.set_title(\"Percentage of assessment results falling into 'safe zone' and 'red zone'\", \n",
        "          size=14)\n",
        "ax.set_xticklabels(zone_pivot['Month Year'], rotation=0)\n",
        "ax.set_ylabel(\"Zones Percentage\", size=12)\n",
        "ax.set_xlabel(\"Date\", size=12)\n",
        "ax.legend(loc='lower right')\n",
        "fig.tight_layout()\n",
        "plt.show()"
      ],
      "execution_count": 47,
      "outputs": [
        {
          "output_type": "display_data",
          "data": {
            "image/png": "[encoded data removed]",
            "text/plain": [
              "<Figure size 1080x576 with 1 Axes>"
            ]
          },
          "metadata": {
            "tags": [],
            "needs_background": "light"
          }
        }
      ]
    },
    {
      "cell_type": "markdown",
      "metadata": {
        "id": "X6yAiRC-Uqt0"
      },
      "source": [
        "The pattern is quite interesting here. More than 40% of the results coming in June 2019 fell into the 'red zone'. This number gradually dropped in the last six months of 2019. In December 2019, there was only about 15% of the results were in the 'red zone'. This low percentage didn't fluctuate too much during the firs half of 2020. Even in April 2020 when the number of assessments taken reached the highest, the proportion of 'red zone' was the same as that four months earlier. I think that 15%-20% can be a useful benchmark for mental health providers to track the overall status of all the assessments taken month by month. For example, if the percentage suddenly rises up to over 20%, the health providers will need to be alerted to the potential factors that cause the sudden rise in order to take on time actions.\n",
        "\n",
        "There is nothing we can say about the patients' status according to this graph, though. This is why we need the second analysis."
      ]
    },
    {
      "cell_type": "markdown",
      "metadata": {
        "id": "B-LwuJ0UlDHH"
      },
      "source": [
        "#### Second approach\n",
        "The second analysis will track the scores of the top 3 patients with the highest test-taking frequency based on the *patient_count* dataframe that I have created in the ***Grouped by 'patient_id'*** section. This analysis should be helpful for mental health providers to track a specific patient's status throughout a specific time frame. The patient himself/herself will also find the tracking results very helpful to monitor their own mental health status."
      ]
    },
    {
      "cell_type": "markdown",
      "metadata": {
        "id": "bUFwzrFcp5H_"
      },
      "source": [
        "The top 3 patients ID are: 10687, 6574, 12307. Firstly, I will extract the records of these three patients from the original dataframe."
      ]
    },
    {
      "cell_type": "code",
      "metadata": {
        "id": "8-jbhhwjSpT5"
      },
      "source": [
        "# Function that reformat the 'date' column\n",
        "def convert_date(x):\n",
        "    '''\n",
        "    Input: raw datetime object\n",
        "    Output: reformatted datetime object\n",
        "    Example: 2019-08-26T13:32:43.019162\t-> 2019-08-26 13:32:43\n",
        "    '''\n",
        "    x = x.replace('T', ' ')[:19]\n",
        "    return x\n",
        "\n",
        "def convert_date_hms(x):\n",
        "    '''\n",
        "    Input: raw datetime object\n",
        "    Output: reformatted datetime object\n",
        "    Example: 2019-08-26T13:32:43.019162\t-> 2019-08-26\n",
        "    '''\n",
        "    x = x.replace('T', ' ')[:10]\n",
        "    return x\n",
        "\n",
        "# Reimport the dataset to reconvert the datetime\n",
        "df = pd.read_csv(\"/content/sample_data/phq_all_final.csv\")\n",
        "df['date'] = df['date'].apply(convert_date)\n",
        "df['date_hms'] = df['date'].apply(convert_date_hms)\n",
        "\n",
        "# Extract the patients data\n",
        "patient_10687 = df[df['patient_id']==10687]\n",
        "patient_6574 = df[df['patient_id']==6574]\n",
        "patient_12307 = df[df['patient_id']==12307]\n",
        "\n",
        "# Reset index\n",
        "patient_10687.reset_index(drop=True, inplace=True)\n",
        "patient_6574.reset_index(drop=True, inplace=True)\n",
        "patient_12307.reset_index(drop=True, inplace=True)"
      ],
      "execution_count": 127,
      "outputs": []
    },
    {
      "cell_type": "code",
      "metadata": {
        "colab": {
          "base_uri": "https://localhost:8080/",
          "height": 419
        },
        "id": "HxC_aAietCiU",
        "outputId": "838db086-869d-4a75-f06d-96623d4f7bdf"
      },
      "source": [
        "# Check one dataframe\n",
        "patient_10687"
      ],
      "execution_count": 128,
      "outputs": [
        {
          "output_type": "execute_result",
          "data": {
            "text/html": [
              "<div>\n",
              "<style scoped>\n",
              "    .dataframe tbody tr th:only-of-type {\n",
              "        vertical-align: middle;\n",
              "    }\n",
              "\n",
              "    .dataframe tbody tr th {\n",
              "        vertical-align: top;\n",
              "    }\n",
              "\n",
              "    .dataframe thead th {\n",
              "        text-align: right;\n",
              "    }\n",
              "</style>\n",
              "<table border=\"1\" class=\"dataframe\">\n",
              "  <thead>\n",
              "    <tr style=\"text-align: right;\">\n",
              "      <th></th>\n",
              "      <th>date</th>\n",
              "      <th>patient_id</th>\n",
              "      <th>type</th>\n",
              "      <th>patient_date_created</th>\n",
              "      <th>score</th>\n",
              "      <th>date_hms</th>\n",
              "    </tr>\n",
              "  </thead>\n",
              "  <tbody>\n",
              "    <tr>\n",
              "      <th>0</th>\n",
              "      <td>2019-06-18 13:18:43</td>\n",
              "      <td>10687</td>\n",
              "      <td>gad7</td>\n",
              "      <td>2019-06-12T16:32:01.993418</td>\n",
              "      <td>13</td>\n",
              "      <td>2019-06-18</td>\n",
              "    </tr>\n",
              "    <tr>\n",
              "      <th>1</th>\n",
              "      <td>2019-06-20 06:01:13</td>\n",
              "      <td>10687</td>\n",
              "      <td>gad7</td>\n",
              "      <td>2019-06-12T16:32:01.993418</td>\n",
              "      <td>12</td>\n",
              "      <td>2019-06-20</td>\n",
              "    </tr>\n",
              "    <tr>\n",
              "      <th>2</th>\n",
              "      <td>2019-06-22 13:32:11</td>\n",
              "      <td>10687</td>\n",
              "      <td>gad7</td>\n",
              "      <td>2019-06-12T16:32:01.993418</td>\n",
              "      <td>14</td>\n",
              "      <td>2019-06-22</td>\n",
              "    </tr>\n",
              "    <tr>\n",
              "      <th>3</th>\n",
              "      <td>2019-06-24 06:07:19</td>\n",
              "      <td>10687</td>\n",
              "      <td>gad7</td>\n",
              "      <td>2019-06-12T16:32:01.993418</td>\n",
              "      <td>15</td>\n",
              "      <td>2019-06-24</td>\n",
              "    </tr>\n",
              "    <tr>\n",
              "      <th>4</th>\n",
              "      <td>2019-06-26 05:54:12</td>\n",
              "      <td>10687</td>\n",
              "      <td>gad7</td>\n",
              "      <td>2019-06-12T16:32:01.993418</td>\n",
              "      <td>9</td>\n",
              "      <td>2019-06-26</td>\n",
              "    </tr>\n",
              "    <tr>\n",
              "      <th>...</th>\n",
              "      <td>...</td>\n",
              "      <td>...</td>\n",
              "      <td>...</td>\n",
              "      <td>...</td>\n",
              "      <td>...</td>\n",
              "      <td>...</td>\n",
              "    </tr>\n",
              "    <tr>\n",
              "      <th>79</th>\n",
              "      <td>2019-11-21 10:32:27</td>\n",
              "      <td>10687</td>\n",
              "      <td>gad7</td>\n",
              "      <td>2019-06-12T16:32:01.993418</td>\n",
              "      <td>18</td>\n",
              "      <td>2019-11-21</td>\n",
              "    </tr>\n",
              "    <tr>\n",
              "      <th>80</th>\n",
              "      <td>2019-11-21 10:32:46</td>\n",
              "      <td>10687</td>\n",
              "      <td>gad7</td>\n",
              "      <td>2019-06-12T16:32:01.993418</td>\n",
              "      <td>18</td>\n",
              "      <td>2019-11-21</td>\n",
              "    </tr>\n",
              "    <tr>\n",
              "      <th>81</th>\n",
              "      <td>2019-11-25 10:52:01</td>\n",
              "      <td>10687</td>\n",
              "      <td>gad7</td>\n",
              "      <td>2019-06-12T16:32:01.993418</td>\n",
              "      <td>20</td>\n",
              "      <td>2019-11-25</td>\n",
              "    </tr>\n",
              "    <tr>\n",
              "      <th>82</th>\n",
              "      <td>2019-11-27 10:40:38</td>\n",
              "      <td>10687</td>\n",
              "      <td>gad7</td>\n",
              "      <td>2019-06-12T16:32:01.993418</td>\n",
              "      <td>20</td>\n",
              "      <td>2019-11-27</td>\n",
              "    </tr>\n",
              "    <tr>\n",
              "      <th>83</th>\n",
              "      <td>2019-11-27 10:40:58</td>\n",
              "      <td>10687</td>\n",
              "      <td>gad7</td>\n",
              "      <td>2019-06-12T16:32:01.993418</td>\n",
              "      <td>18</td>\n",
              "      <td>2019-11-27</td>\n",
              "    </tr>\n",
              "  </tbody>\n",
              "</table>\n",
              "<p>84 rows × 6 columns</p>\n",
              "</div>"
            ],
            "text/plain": [
              "                   date  patient_id  ... score    date_hms\n",
              "0   2019-06-18 13:18:43       10687  ...    13  2019-06-18\n",
              "1   2019-06-20 06:01:13       10687  ...    12  2019-06-20\n",
              "2   2019-06-22 13:32:11       10687  ...    14  2019-06-22\n",
              "3   2019-06-24 06:07:19       10687  ...    15  2019-06-24\n",
              "4   2019-06-26 05:54:12       10687  ...     9  2019-06-26\n",
              "..                  ...         ...  ...   ...         ...\n",
              "79  2019-11-21 10:32:27       10687  ...    18  2019-11-21\n",
              "80  2019-11-21 10:32:46       10687  ...    18  2019-11-21\n",
              "81  2019-11-25 10:52:01       10687  ...    20  2019-11-25\n",
              "82  2019-11-27 10:40:38       10687  ...    20  2019-11-27\n",
              "83  2019-11-27 10:40:58       10687  ...    18  2019-11-27\n",
              "\n",
              "[84 rows x 6 columns]"
            ]
          },
          "metadata": {
            "tags": []
          },
          "execution_count": 128
        }
      ]
    },
    {
      "cell_type": "markdown",
      "metadata": {
        "id": "sjBmMdvuzqxB"
      },
      "source": [
        "The 'date' column looks good. Now I will visualize the assessment scores on a timeline for the three patients."
      ]
    },
    {
      "cell_type": "code",
      "metadata": {
        "colab": {
          "base_uri": "https://localhost:8080/",
          "height": 607
        },
        "id": "MlDiFSDfq-04",
        "outputId": "6b707d1a-ac07-4498-b003-0c85d80a2d3f"
      },
      "source": [
        "# Plotting patient 10687\n",
        "fig = plt.figure()\n",
        "\n",
        "# Calculate the simple average of the data\n",
        "y_mean = [np.mean(patient_10687['score'])]*len(patient_10687)\n",
        "\n",
        "ax = patient_10687.plot(\n",
        "    x='date', y='score', color='#A1CCC3', figsize=(20,8), label='Score'\n",
        "    )\n",
        "mean_line = ax.plot(patient_10687['date'], y_mean, label='Mean', \n",
        "                    linestyle='--', color='#05261e')\n",
        "ax.set_xticks([i for i in range(patient_10687.shape[0])])\n",
        "ax.set_xticklabels(patient_10687[\"date\"], rotation=90, size=8)\n",
        "ax.set_title(\"Scores of Patient 10687 from June 2019 to July 2020\")\n",
        "ax.set_xlabel(\"Date\", size=12)\n",
        "ax.set_ylabel(\"Score\", size=12)\n",
        "ax.legend(loc='upper right')\n",
        "ax.autoscale(tight=False)\n",
        "plt.show()"
      ],
      "execution_count": 153,
      "outputs": [
        {
          "output_type": "display_data",
          "data": {
            "text/plain": [
              "<Figure size 432x288 with 0 Axes>"
            ]
          },
          "metadata": {
            "tags": []
          }
        },
        {
          "output_type": "display_data",
          "data": {
            "image/png": "[encoded data removed]",
            "text/plain": [
              "<Figure size 1440x576 with 1 Axes>"
            ]
          },
          "metadata": {
            "tags": [],
            "needs_background": "light"
          }
        }
      ]
    },
    {
      "cell_type": "code",
      "metadata": {
        "colab": {
          "base_uri": "https://localhost:8080/",
          "height": 607
        },
        "id": "lQOhpktgrttW",
        "outputId": "c2d22111-5375-48d1-94a8-0679ad4c4403"
      },
      "source": [
        "# Plotting patient 6574\n",
        "fig = plt.figure()\n",
        "\n",
        "# Calculate the simple average of the data\n",
        "y_mean = [np.mean(patient_6574['score'])]*len(patient_6574)\n",
        "\n",
        "ax = patient_6574.plot(\n",
        "    x='date', y='score', color='#A1CCC3', figsize=(15,8), label='Score'\n",
        "    )\n",
        "mean_line = ax.plot(patient_6574['date'], y_mean, label='Mean', \n",
        "                    linestyle='--', color='#05261e')\n",
        "ax.set_xticks([i for i in range(patient_6574.shape[0])])\n",
        "ax.set_xticklabels(patient_6574[\"date\"], rotation=90, size=8)\n",
        "ax.set_title(\"Scores of Patient 6574 from June 2019 to July 2020\")\n",
        "ax.set_xlabel(\"Date\", size=12)\n",
        "ax.set_ylabel(\"Score\", size=12)\n",
        "ax.legend(loc='upper right')\n",
        "ax.autoscale(tight=False)\n",
        "plt.show()"
      ],
      "execution_count": 157,
      "outputs": [
        {
          "output_type": "display_data",
          "data": {
            "text/plain": [
              "<Figure size 432x288 with 0 Axes>"
            ]
          },
          "metadata": {
            "tags": []
          }
        },
        {
          "output_type": "display_data",
          "data": {
            "image/png": "[encoded data removed]",
            "text/plain": [
              "<Figure size 1080x576 with 1 Axes>"
            ]
          },
          "metadata": {
            "tags": [],
            "needs_background": "light"
          }
        }
      ]
    },
    {
      "cell_type": "code",
      "metadata": {
        "colab": {
          "base_uri": "https://localhost:8080/",
          "height": 607
        },
        "id": "BQGPFr0d1DQq",
        "outputId": "744c547c-fc9d-48b0-f653-3dead77dc215"
      },
      "source": [
        "# Plotting patient 12307\n",
        "fig = plt.figure()\n",
        "\n",
        "# Calculate the simple average of the data\n",
        "y_mean = [np.mean(patient_12307['score'])]*len(patient_12307)\n",
        "\n",
        "ax = patient_12307.plot(\n",
        "    x='date', y='score', color='#A1CCC3', figsize=(15,8), label='Score'\n",
        "    )\n",
        "mean_line = ax.plot(patient_12307['date'], y_mean, label='Mean', \n",
        "                    linestyle='--', color='#05261e')\n",
        "ax.set_xticks([i for i in range(patient_12307.shape[0])])\n",
        "ax.set_xticklabels(patient_12307[\"date\"], rotation=90, size=8)\n",
        "ax.set_title(\"Scores of Patient 12307 from June 2019 to July 2020\")\n",
        "ax.set_xlabel(\"Date\", size=12)\n",
        "ax.set_ylabel(\"Score\", size=12)\n",
        "ax.legend(loc='upper right')\n",
        "ax.autoscale(tight=False)\n",
        "plt.show()"
      ],
      "execution_count": 156,
      "outputs": [
        {
          "output_type": "display_data",
          "data": {
            "text/plain": [
              "<Figure size 432x288 with 0 Axes>"
            ]
          },
          "metadata": {
            "tags": []
          }
        },
        {
          "output_type": "display_data",
          "data": {
            "image/png": "[encoded data removed]",
            "text/plain": [
              "<Figure size 1080x576 with 1 Axes>"
            ]
          },
          "metadata": {
            "tags": [],
            "needs_background": "light"
          }
        }
      ]
    },
    {
      "cell_type": "markdown",
      "metadata": {
        "id": "OWHbvcz9F0So"
      },
      "source": [
        "According to the charts, all of the three patients started taking their first assessment in 2019. Patient 10687 took his/her first test on June 18, 2010. Patient 6574 took his/her first test on June 12, 2019. Patient 12307 started on September 26, 2019, and he/she was the only one continued taking the assessment in 2020. The last test result of patient 10687 was recorded on November 27, 2019. That of patient 6574 was recorded on October 17, 2019.\n",
        "\n",
        "With 84 records, patient 10687 showed a highly severe mental health status as his/her mean score was 18. There were times his/her score reached the highest score possible, 21. Patients like 10687 should be monitored carefully because the severity level didn't seem to improve through time. 10687's scores were above the average line for almost the last two months of his/her records which is an alert for the clinicians. Further data should be collected such as treatment methods for each patient in order to integrate the effectiveness of different treatment approaches.\n",
        "\n",
        "Patient 6574 showed a huge improvement on his/her mental health status. It is interesting that it only took 2 days from June 12 to June 14, 2019 for the mental health providers to help 6574 drop his score from nearly 20 to 6. The mean score shows that patient 6574 was very well monitored and didn't seem to encounter any mental problem until October 17, 2019.\n",
        "\n",
        "Patient 12307's mental health was really promising. All of his/her data were 5 or under which indicate a *Low to Minimal* severity level."
      ]
    },
    {
      "cell_type": "markdown",
      "metadata": {
        "id": "KtQjS4xKRzUk"
      },
      "source": [
        "## **Conclusion**\n",
        "---\n",
        "Due to the time constraint of this project, I am sure that there are still a lot of uncovered insights hidden inside the data that I didn't have the time to explore. Nevertheless, I have found and shared some of the patterns that I consider, at some levels, useful for both the mental health providers and their patients. If I were to have more time and resource to work on the project, here are the things I want to achieve:\n",
        "\n",
        "*   Run the tracking analysis on other patients.\n",
        "*   Improve the tracking analysis with data sorted by user-input time frames.\n",
        "*   Further investigate the reasons why patients like 10687 stopped taking the assessment even though his/her status was not improved.\n",
        "*   Answer my declared hypotheses.\n",
        "*   Further understand the desired output of the clinicians and the patients.\n",
        "*   Communicate with both of the end-users to get their feedbacks on the effectiveness of the visualization and analysis.\n",
        "*   More data on the patients' answers for each question on the GAD-7 assessment will be very helpful. This breaks down the tracking analysis into separated measurements. Mental health providers may find this kind of deep analysis more helpful as they can uncover specific sources of mental illness of their patients. Total scores only work as an indicator for labeling severity levels. \n",
        "*   Got a chance to take the GAD-7 assessment by myself. The complexity of the assessment has a great impact on the willingness and honesty of the patients when answering the questions.\n",
        "\n",
        "\n",
        "\n",
        "\n",
        "\n",
        "\n"
      ]
    },
    {
      "cell_type": "code",
      "metadata": {
        "id": "RqF0Zxe6WNKG"
      },
      "source": [
        ""
      ],
      "execution_count": null,
      "outputs": []
    }
  ]
}